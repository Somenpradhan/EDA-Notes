{
  "cells": [
    {
      "cell_type": "markdown",
      "metadata": {
        "id": "view-in-github",
        "colab_type": "text"
      },
      "source": [
        "<a href=\"https://colab.research.google.com/github/Somenpradhan/EDA-Notes/blob/main/NumPy_Mastyer_E_Book.ipynb\" target=\"_parent\"><img src=\"https://colab.research.google.com/assets/colab-badge.svg\" alt=\"Open In Colab\"/></a>"
      ]
    },
    {
      "cell_type": "markdown",
      "metadata": {
        "id": "y8E0D6cHKSRD"
      },
      "source": [
        "# <span style=\"color:blue\">1. Introduction to NumPy</span>\n",
        "## <span style=\"color:green\">1.1 Overview of NumPy</span>\n",
        "- Importance and advantages\n",
        "- Installation and setup\n",
        "\n",
        "## <span style=\"color:green\">1.2 Understanding Arrays</span>\n",
        "- The difference between lists and arrays\n",
        "- Introduction to NumPy arrays\n",
        "\n",
        "# <span style=\"color:blue\">2. NumPy Arrays</span>\n",
        "## <span style=\"color:green\">2.1 Creating NumPy Arrays</span>\n",
        "- Creating arrays from lists and tuples\n",
        "- `np.array()` and data types\n",
        "- Creating arrays with functions: `np.zeros()`, `np.ones()`, `np.full()`, `np.empty()`, `np.arange()`, `np.linspace()`\n",
        "\n",
        "## <span style=\"color:green\">2.2 Array Attributes</span>\n",
        "- Array dimensions: `ndim`, `shape`, `size`, `dtype`, `itemsize`\n",
        "- Reshaping arrays: `reshape()` and `ravel()`\n",
        "\n",
        "# <span style=\"color:blue\">3. Array Indexing and Slicing</span>\n",
        "## <span style=\"color:green\">3.1 Indexing in NumPy</span>\n",
        "- 1D, 2D, and multi-dimensional arrays\n",
        "- Accessing individual elements\n",
        "\n",
        "## <span style=\"color:green\">3.2 Slicing NumPy Arrays</span>\n",
        "- Slicing arrays using colon `:`\n",
        "- Using steps and reverse slicing\n",
        "\n",
        "## <span style=\"color:green\">3.3 Advanced Indexing</span>\n",
        "- Boolean indexing\n",
        "- Fancy indexing with arrays of indices\n",
        "\n",
        "# <span style=\"color:blue\">4. Array Operations</span>\n",
        "## <span style=\"color:green\">4.1 Basic Arithmetic Operations</span>\n",
        "- Element-wise addition, subtraction, multiplication, and division\n",
        "- Broadcasting concept in NumPy\n",
        "\n",
        "## <span style=\"color:green\">4.2 Mathematical Functions</span>\n",
        "- Using built-in NumPy functions: `np.add()`, `np.subtract()`, `np.multiply()`, `np.divide()`\n",
        "- Aggregation functions: `np.sum()`, `np.prod()`, `np.mean()`, `np.std()`, `np.var()`\n",
        "\n",
        "## <span style=\"color:green\">4.3 Linear Algebra Operations</span>\n",
        "- Matrix multiplication: `np.dot()`\n",
        "- Determinants, eigenvalues, and inverse: `np.linalg.det()`, `np.linalg.inv()`\n",
        "- Solving linear equations: `np.linalg.solve()`\n",
        "\n",
        "# <span style=\"color:blue\">5. NumPy Array Manipulation</span>\n",
        "## <span style=\"color:green\">5.1 Joining and Splitting Arrays</span>\n",
        "- Concatenating arrays: `np.concatenate()`, `np.vstack()`, `np.hstack()`\n",
        "- Splitting arrays: `np.split()`, `np.vsplit()`, `np.hsplit()`\n",
        "\n",
        "## <span style=\"color:green\">5.2 Transposing and Swapping Axes</span>\n",
        "- Transposing arrays: `np.transpose()`\n",
        "- Changing array axes with `np.swapaxes()`\n",
        "\n",
        "# <span style=\"color:blue\">6. Broadcasting in NumPy</span>\n",
        "## <span style=\"color:green\">6.1 Introduction to Broadcasting</span>\n",
        "- What is broadcasting?\n",
        "- Rules of broadcasting\n",
        "\n",
        "## <span style=\"color:green\">6.2 Broadcasting Examples</span>\n",
        "- Practical examples of broadcasting in array operations\n",
        "\n",
        "# <span style=\"color:blue\">7. Working with Random Numbers</span>\n",
        "## <span style=\"color:green\">7.1 Random Number Generation</span>\n",
        "- Generating random numbers: `np.random.rand()`, `np.random.randint()`\n",
        "- Random sampling and shuffling: `np.random.shuffle()`\n",
        "\n",
        "## <span style=\"color:green\">7.2 Statistical Distributions</span>\n",
        "- Working with normal, uniform, and binomial distributions\n",
        "\n",
        "# <span style=\"color:blue\">8. NumPy for Data Analysis</span>\n",
        "## <span style=\"color:green\">8.1 Statistical Functions</span>\n",
        "- Calculating minimum, maximum, percentiles: `np.min()`, `np.max()`, `np.percentile()`\n",
        "- Cumulative sum and product: `np.cumsum()`, `np.cumprod()`\n",
        "\n",
        "## <span style=\"color:green\">8.2 Sorting and Searching in Arrays</span>\n",
        "- Sorting arrays: `np.sort()`\n",
        "- Searching elements in arrays: `np.where()`, `np.searchsorted()`\n",
        "\n",
        "# <span style=\"color:blue\">9. NumPy and Memory Efficiency</span>\n",
        "## <span style=\"color:green\">9.1 Memory Layout</span>\n",
        "- Understanding array memory layout: C-order vs F-order\n",
        "\n",
        "## <span style=\"color:green\">9.2 Memory Efficient Operations</span>\n",
        "- In-place operations\n",
        "- Copying vs viewing arrays: `copy()` vs `view()`\n",
        "\n",
        "# <span style=\"color:blue\">10. NumPy for Advanced Users</span>\n",
        "## <span style=\"color:green\">10.1 Structured Arrays</span>\n",
        "- Creating and manipulating structured arrays\n",
        "- Accessing structured array fields\n",
        "\n",
        "## <span style=\"color:green\">10.2 Masked Arrays</span>\n",
        "- Working with missing data using masked arrays\n",
        "\n",
        "# <span style=\"color:blue\">11. File Input/Output with NumPy</span>\n",
        "## <span style=\"color:green\">11.1 Saving and Loading Arrays</span>\n",
        "- Saving arrays to text and binary files: `np.savetxt()`, `np.save()`\n",
        "- Loading arrays from files: `np.loadtxt()`, `np.load()`\n",
        "\n",
        "## <span style=\"color:green\">11.2 Working with .npy and .npz files</span>\n",
        "- Saving multiple arrays in one file with `np.savez()`\n",
        "\n",
        "# <span style=\"color:blue\">12. Best Practices and Optimization</span>\n",
        "## <span style=\"color:green\">12.1 Best Practices in NumPy</span>\n",
        "- Choosing data types for performance\n",
        "- Avoiding unnecessary array copying\n",
        "\n",
        "## <span style=\"color:green\">12.2 Performance Optimization</span>\n",
        "- Vectorization and avoiding loops\n",
        "- Using `numexpr` and `cython` for performance improvements\n"
      ]
    },
    {
      "cell_type": "markdown",
      "metadata": {
        "id": "eUpHv2sHKSRL"
      },
      "source": [
        "****\n",
        "# 1. Introduction to NumPy\n",
        "\n",
        "## 1.1 Overview of NumPy\n",
        "\n",
        "### Importance and Advantages of NumPy\n",
        "\n",
        "NumPy (Numerical Python) is one of the core libraries for scientific computing in Python. It provides powerful data structures, primarily arrays, that allow for efficient storage and manipulation of large datasets. Some of the key advantages include:\n",
        "\n",
        "- **Efficient memory usage**: NumPy arrays are stored more compactly than Python lists, making it faster and more memory efficient, especially when working with large datasets.\n",
        "- **Mathematical operations**: NumPy provides built-in support for many mathematical operations such as element-wise addition, subtraction, multiplication, and linear algebra functions, which are optimized for performance.\n",
        "- **Support for multidimensional arrays**: Unlike Python lists, NumPy arrays can handle n-dimensional data (1D, 2D, 3D, and higher dimensions).\n",
        "- **Broadcasting**: NumPy can perform operations between arrays of different shapes (without copying data), which is not directly possible in regular Python lists.\n",
        "- **Integration with other libraries**: Libraries like Pandas, SciPy, TensorFlow, and many others are built on top of NumPy, making it a foundational tool for data science and machine learning.\n",
        "\n",
        "### Installation and Setup\n",
        "\n",
        "You can install NumPy using `pip` (the Python package installer) or `conda` (if you're using the Anaconda distribution).\n"
      ]
    },
    {
      "cell_type": "markdown",
      "metadata": {
        "id": "xmG0KM7mKSRO"
      },
      "source": [
        "**1. using pip**"
      ]
    },
    {
      "cell_type": "code",
      "execution_count": null,
      "metadata": {
        "id": "n1Xnf6H6KSRP"
      },
      "outputs": [],
      "source": [
        "pip install numpy"
      ]
    },
    {
      "cell_type": "markdown",
      "metadata": {
        "id": "pYdG_5fGKSRR"
      },
      "source": [
        "**2. using conda**"
      ]
    },
    {
      "cell_type": "code",
      "execution_count": null,
      "metadata": {
        "id": "dq6TcwF0KSRV"
      },
      "outputs": [],
      "source": [
        "conda install numpy"
      ]
    },
    {
      "cell_type": "markdown",
      "metadata": {
        "id": "F4eVtUfMKSRX"
      },
      "source": [
        "- Once installed, you can import it into your Python script or Jupyter Notebook:"
      ]
    },
    {
      "cell_type": "code",
      "execution_count": null,
      "metadata": {
        "id": "Wq_VlBV8KSRY"
      },
      "outputs": [],
      "source": [
        "import numpy as np # Here, np is a common alias for NumPy."
      ]
    },
    {
      "cell_type": "markdown",
      "metadata": {
        "id": "8i_e-DyOKSRc"
      },
      "source": [
        "## 1.2 Understanding Arrays\n",
        "\n",
        "### The Difference Between Lists and Arrays\n",
        "\n",
        "#### Python Lists:\n",
        "- Python lists are versatile and can store elements of different data types (e.g., integers, floats, strings, etc.).\n",
        "- They are slower when performing numerical operations, as they are general-purpose containers.\n",
        "\n",
        "#### NumPy Arrays:\n",
        "- NumPy arrays are homogeneous (i.e., they store elements of the same data type, usually numbers).\n",
        "- They are optimized for numerical computations, providing faster operations compared to Python lists, especially when handling large datasets.\n",
        "\n",
        "### Example Comparison\n",
        "Here’s an example to compare a Python list and a NumPy array:\n"
      ]
    },
    {
      "cell_type": "code",
      "execution_count": null,
      "metadata": {
        "id": "ZImzECEfKSRg",
        "outputId": "2f6d111f-1d23-4632-c9ff-ea6d641dcea1"
      },
      "outputs": [
        {
          "name": "stdout",
          "output_type": "stream",
          "text": [
            "Python List: [1, 2, 3, 4]\n",
            "NumPy Array: [1 2 3 4]\n"
          ]
        }
      ],
      "source": [
        "# Using a Python list\n",
        "py_list = [1, 2, 3, 4]\n",
        "print(f\"Python List: {py_list}\")\n",
        "\n",
        "# Using a NumPy array\n",
        "import numpy as np\n",
        "np_array = np.array([1, 2, 3, 4])\n",
        "print(f\"NumPy Array: {np_array}\")"
      ]
    },
    {
      "cell_type": "markdown",
      "metadata": {
        "id": "z9k7zmN9KSRh"
      },
      "source": [
        "### Differences:\n",
        "\n",
        "- Python lists can store elements of different types (e.g., `[1, \"two\", 3.0]`), while NumPy arrays are homogeneous (e.g., all elements are integers or floats).\n",
        "- NumPy arrays provide more efficient storage and faster operations for large-scale numerical computations.\n"
      ]
    },
    {
      "cell_type": "markdown",
      "metadata": {
        "id": "dxPe3q7xKSRi"
      },
      "source": [
        "## Introduction to NumPy Arrays\n",
        "\n",
        "A NumPy array is a grid of values, all of the same type, and is indexed by a tuple of non-negative integers. The number of dimensions (`ndim`) is the rank of the array, and the shape of the array is a tuple of integers giving the size of the array along each dimension.\n",
        "\n",
        "### Creating a NumPy Array\n",
        "\n",
        "You can create a NumPy array from a Python list or tuple using the `np.array()` function."
      ]
    },
    {
      "cell_type": "code",
      "execution_count": null,
      "metadata": {
        "id": "114ql587KSRj",
        "outputId": "bf19e414-0009-4652-ad1a-d40f29a9e3bc"
      },
      "outputs": [
        {
          "name": "stdout",
          "output_type": "stream",
          "text": [
            "1D NumPy Array: [1 2 3 4]\n",
            "2D NumPy Array:\n",
            " [[1 2 3]\n",
            " [4 5 6]]\n"
          ]
        }
      ],
      "source": [
        "import numpy as np\n",
        "\n",
        "# Creating a 1D array (from a Python list)\n",
        "arr1 = np.array([1, 2, 3, 4])\n",
        "print(\"1D NumPy Array:\", arr1)\n",
        "\n",
        "# Creating a 2D array (from a nested Python list)\n",
        "arr2 = np.array([[1, 2, 3], [4, 5, 6]])\n",
        "print(\"2D NumPy Array:\\n\", arr2)"
      ]
    },
    {
      "cell_type": "markdown",
      "metadata": {
        "id": "C3a4uB3OKSRl"
      },
      "source": [
        "****\n",
        "# 2. NumPy Arrays\n",
        "\n",
        "## 2.1 Creating NumPy Arrays\n",
        "\n",
        "NumPy arrays are at the core of the library. They allow efficient storage and manipulation of data, especially for numerical computations. Let's explore the different ways to create NumPy arrays and the various functions used to do so.\n",
        "\n",
        "### Creating Arrays from Lists and Tuples\n",
        "\n",
        "You can easily convert a Python list or tuple into a NumPy array using the `np.array()` function. NumPy arrays are homogeneous, meaning all the elements are of the same data type.\n"
      ]
    },
    {
      "cell_type": "code",
      "execution_count": null,
      "metadata": {
        "id": "RtvgIra7KSRl",
        "outputId": "83733fea-8dc5-470f-c183-58bbbd933224"
      },
      "outputs": [
        {
          "name": "stdout",
          "output_type": "stream",
          "text": [
            "1D Array from list: [1 2 3 4]\n",
            "1D Array from tuple: [5 6 7 8]\n",
            "2D Array from nested list:\n",
            " [[1 2 3]\n",
            " [4 5 6]]\n"
          ]
        }
      ],
      "source": [
        "import numpy as np\n",
        "\n",
        "# Creating a 1D NumPy array from a Python list\n",
        "arr_from_list = np.array([1, 2, 3, 4])\n",
        "print(\"1D Array from list:\", arr_from_list)\n",
        "\n",
        "# Creating a 1D NumPy array from a Python tuple\n",
        "arr_from_tuple = np.array((5, 6, 7, 8))\n",
        "print(\"1D Array from tuple:\", arr_from_tuple)\n",
        "\n",
        "# Creating a 2D NumPy array from a nested list\n",
        "arr_2d = np.array([[1, 2, 3], [4, 5, 6]])\n",
        "print(\"2D Array from nested list:\\n\", arr_2d)"
      ]
    },
    {
      "cell_type": "markdown",
      "metadata": {
        "id": "Inpan5HCKSRm"
      },
      "source": [
        "### `np.array()` and Data Types\n",
        "\n",
        "By default, NumPy infers the data type of the elements in an array. You can explicitly specify the data type using the `dtype` argument when creating an array."
      ]
    },
    {
      "cell_type": "code",
      "execution_count": null,
      "metadata": {
        "id": "WhzUjpFoKSRn",
        "outputId": "3d8e1c33-6bc1-4f90-c483-83e449c626f2"
      },
      "outputs": [
        {
          "name": "stdout",
          "output_type": "stream",
          "text": [
            "Array with float data type: [1. 2. 3. 4.]\n",
            "Array with integer data type: [1 2 3]\n"
          ]
        }
      ],
      "source": [
        "# Creating a NumPy array with a specific data type\n",
        "float_array = np.array([1, 2, 3, 4], dtype=float)\n",
        "print(\"Array with float data type:\", float_array)\n",
        "\n",
        "# Creating an integer array\n",
        "int_array = np.array([1.5, 2.7, 3.9], dtype=int)\n",
        "print(\"Array with integer data type:\", int_array)\n"
      ]
    },
    {
      "cell_type": "markdown",
      "metadata": {
        "id": "f644cecZKSRp"
      },
      "source": [
        "### Creating Arrays with Functions\n",
        "\n",
        "NumPy provides several functions to create arrays without manually specifying the elements.\n",
        "\n",
        "1. `np.zeros(shape)`: Creates an array filled with zeros."
      ]
    },
    {
      "cell_type": "code",
      "execution_count": null,
      "metadata": {
        "id": "nhw46AADKSRs",
        "outputId": "1718f879-c12f-4895-f52c-25dfffb797e2"
      },
      "outputs": [
        {
          "name": "stdout",
          "output_type": "stream",
          "text": [
            "Array of zeros:\n",
            " [[0. 0. 0.]\n",
            " [0. 0. 0.]]\n"
          ]
        }
      ],
      "source": [
        "zeros_array = np.zeros((2, 3))\n",
        "print(\"Array of zeros:\\n\", zeros_array)"
      ]
    },
    {
      "cell_type": "markdown",
      "metadata": {
        "id": "h47rhHnrKSRt"
      },
      "source": [
        "2. `np.ones(shape)`: Creates an array filled with ones."
      ]
    },
    {
      "cell_type": "code",
      "execution_count": null,
      "metadata": {
        "id": "sbjFvUAdKSRu",
        "outputId": "53eb4ad3-05c7-4bb4-d291-45423255470e"
      },
      "outputs": [
        {
          "name": "stdout",
          "output_type": "stream",
          "text": [
            "Array of ones:\n",
            " [[1. 1. 1. 1.]\n",
            " [1. 1. 1. 1.]\n",
            " [1. 1. 1. 1.]]\n"
          ]
        }
      ],
      "source": [
        "ones_array = np.ones((3, 4))\n",
        "print(\"Array of ones:\\n\", ones_array)"
      ]
    },
    {
      "cell_type": "markdown",
      "metadata": {
        "id": "EgM6nU_pKSRw"
      },
      "source": [
        "3. `np.full(shape, value)`: Creates an array filled with a specified value."
      ]
    },
    {
      "cell_type": "code",
      "execution_count": null,
      "metadata": {
        "id": "MtZTRlBcKSRw",
        "outputId": "f760da82-5936-4863-93f9-5cdd742e2467"
      },
      "outputs": [
        {
          "name": "stdout",
          "output_type": "stream",
          "text": [
            "Array filled with 7:\n",
            " [[7 7]\n",
            " [7 7]]\n"
          ]
        }
      ],
      "source": [
        "full_array = np.full((2, 2), 7)\n",
        "print(\"Array filled with 7:\\n\", full_array)"
      ]
    },
    {
      "cell_type": "markdown",
      "metadata": {
        "id": "rTLEJfCLKSRw"
      },
      "source": [
        "4. `np.empty(shape)`:Creates an array without initializing the values (useful for performance when the values will be set later)."
      ]
    },
    {
      "cell_type": "code",
      "execution_count": null,
      "metadata": {
        "id": "DJHplE93KSRy",
        "outputId": "a38c2e5c-8b26-4dee-8d87-7014d3f74c49"
      },
      "outputs": [
        {
          "name": "stdout",
          "output_type": "stream",
          "text": [
            "Empty array:\n",
            " [[0.00e+000 0.00e+000 0.00e+000]\n",
            " [0.00e+000 0.00e+000 6.68e-321]\n",
            " [0.00e+000 0.00e+000 0.00e+000]]\n"
          ]
        }
      ],
      "source": [
        "empty_array = np.empty((3, 3))\n",
        "print(\"Empty array:\\n\", empty_array)"
      ]
    },
    {
      "cell_type": "markdown",
      "metadata": {
        "id": "n-w88-ZfKSRz"
      },
      "source": [
        "5. `np.arange(start, stop, step)`: Creates an array with evenly spaced values within a given range."
      ]
    },
    {
      "cell_type": "code",
      "execution_count": null,
      "metadata": {
        "id": "m0GB6q7qKSR0",
        "outputId": "8231a20c-8e59-4f7e-df1b-6c6ea83c5b39"
      },
      "outputs": [
        {
          "name": "stdout",
          "output_type": "stream",
          "text": [
            "Array with a range of values: [0 2 4 6 8]\n"
          ]
        }
      ],
      "source": [
        "range_array = np.arange(0, 10, 2)\n",
        "print(\"Array with a range of values:\", range_array)"
      ]
    },
    {
      "cell_type": "markdown",
      "metadata": {
        "id": "rUj_gqAnKSR1"
      },
      "source": [
        "6. `np.linspace(start, stop, num)`: Creates an array with `num` evenly spaced numbers between `start` and `stop`."
      ]
    },
    {
      "cell_type": "code",
      "execution_count": null,
      "metadata": {
        "id": "RQrNF_L9KSR1",
        "outputId": "10365ef0-46fc-4483-986c-37bbdb4125bb"
      },
      "outputs": [
        {
          "name": "stdout",
          "output_type": "stream",
          "text": [
            "Array with 5 evenly spaced numbers: [0.   0.25 0.5  0.75 1.  ]\n"
          ]
        }
      ],
      "source": [
        "linspace_array = np.linspace(0, 1, 5)\n",
        "print(\"Array with 5 evenly spaced numbers:\", linspace_array)\n"
      ]
    },
    {
      "cell_type": "markdown",
      "metadata": {
        "id": "EEKKDElgKSR2"
      },
      "source": [
        "## 2.2 Array Attributes\n",
        "\n",
        "NumPy arrays come with various attributes that give information about their structure and data:\n",
        "\n",
        "1. **`ndim`**: The number of dimensions (or axes) of the array.\n"
      ]
    },
    {
      "cell_type": "code",
      "execution_count": null,
      "metadata": {
        "id": "MgWhJ6FAKSR2",
        "outputId": "14fb0001-bf4c-4605-c75a-0e5914c68d91"
      },
      "outputs": [
        {
          "name": "stdout",
          "output_type": "stream",
          "text": [
            "Number of dimensions (ndim): 2\n"
          ]
        }
      ],
      "source": [
        "print(\"Number of dimensions (ndim):\", arr_2d.ndim)"
      ]
    },
    {
      "cell_type": "markdown",
      "metadata": {
        "id": "622Y0YwlKSR4"
      },
      "source": [
        "2. **`shape`**: The shape of the array (a tuple representing the size along each dimension).\n",
        "\n"
      ]
    },
    {
      "cell_type": "code",
      "execution_count": null,
      "metadata": {
        "id": "F9DxbFYUKSR5",
        "outputId": "2ff3e97d-b74b-4ca1-e9ec-80d974070017"
      },
      "outputs": [
        {
          "name": "stdout",
          "output_type": "stream",
          "text": [
            "Shape of the array: (2, 3)\n"
          ]
        }
      ],
      "source": [
        "print(\"Shape of the array:\", arr_2d.shape)"
      ]
    },
    {
      "cell_type": "markdown",
      "metadata": {
        "id": "GS0qTcJWKSR7"
      },
      "source": [
        "3. **`size`**: The total number of elements in the array."
      ]
    },
    {
      "cell_type": "code",
      "execution_count": null,
      "metadata": {
        "id": "T1SuyyCCKSR8",
        "outputId": "a19d1adc-c4e5-4e4c-8df4-8fd16e5ea7c6"
      },
      "outputs": [
        {
          "name": "stdout",
          "output_type": "stream",
          "text": [
            "Total number of elements (size): 6\n"
          ]
        }
      ],
      "source": [
        "print(\"Total number of elements (size):\", arr_2d.size)"
      ]
    },
    {
      "cell_type": "markdown",
      "metadata": {
        "id": "M82oqm3QKSSA"
      },
      "source": [
        "4. **`dtype`**: The data type of the elements in the array."
      ]
    },
    {
      "cell_type": "code",
      "execution_count": null,
      "metadata": {
        "id": "jf9Fu9iAKSSA",
        "outputId": "93ba9c0d-7c79-44c4-e6f8-7f50aa6f1e96"
      },
      "outputs": [
        {
          "name": "stdout",
          "output_type": "stream",
          "text": [
            "Data type of the array: int32\n"
          ]
        }
      ],
      "source": [
        "print(\"Data type of the array:\", arr_2d.dtype)"
      ]
    },
    {
      "cell_type": "markdown",
      "metadata": {
        "id": "i3rZsc-uKSSA"
      },
      "source": [
        "5. **`itemsize`**: The size (in bytes) of each element in the array."
      ]
    },
    {
      "cell_type": "code",
      "execution_count": null,
      "metadata": {
        "id": "ha70M1WYKSSA",
        "outputId": "a9a17f3d-14a4-41f3-f0de-34b283a12945"
      },
      "outputs": [
        {
          "name": "stdout",
          "output_type": "stream",
          "text": [
            "Size of each element (itemsize): 4 bytes\n"
          ]
        }
      ],
      "source": [
        "print(\"Size of each element (itemsize):\", arr_2d.itemsize, \"bytes\")"
      ]
    },
    {
      "cell_type": "markdown",
      "metadata": {
        "id": "fnpzPj2pKSSC"
      },
      "source": [
        "### Reshaping Arrays\n",
        "\n",
        "NumPy allows you to change the shape of an array without modifying its data. This is useful when you want to organize your data in a different format.\n",
        "\n",
        "1. **`reshape()`**: You can change the shape of an array to any compatible shape (i.e., the new shape must have the same total number of elements as the original array).\n",
        "\n"
      ]
    },
    {
      "cell_type": "code",
      "execution_count": null,
      "metadata": {
        "id": "mgIjb2FvKSSD",
        "outputId": "de74d436-3b87-4596-b126-739bf95f1632"
      },
      "outputs": [
        {
          "name": "stdout",
          "output_type": "stream",
          "text": [
            "Original array: [0 1 2 3 4 5]\n",
            "Reshaped array:\n",
            " [[0 1 2]\n",
            " [3 4 5]]\n"
          ]
        }
      ],
      "source": [
        "arr = np.arange(6)  # Creates a 1D array [0, 1, 2, 3, 4, 5]\n",
        "reshaped_arr = arr.reshape((2, 3))  # Reshapes it to a 2D array (2x3)\n",
        "print(\"Original array:\", arr)\n",
        "print(\"Reshaped array:\\n\", reshaped_arr)"
      ]
    },
    {
      "cell_type": "markdown",
      "metadata": {
        "id": "P2gpEKFzKSSD"
      },
      "source": [
        "2. **`ravel()`**: Flattens the array into a 1D array."
      ]
    },
    {
      "cell_type": "code",
      "execution_count": null,
      "metadata": {
        "id": "zD9aHWv0KSSE",
        "outputId": "d8d120b2-0317-4183-c928-39029ebb888f"
      },
      "outputs": [
        {
          "name": "stdout",
          "output_type": "stream",
          "text": [
            "Flattened array: [0 1 2 3 4 5]\n"
          ]
        }
      ],
      "source": [
        "flattened_arr = reshaped_arr.ravel()\n",
        "print(\"Flattened array:\", flattened_arr)\n"
      ]
    },
    {
      "cell_type": "markdown",
      "metadata": {
        "id": "4xcEkgQlKSSE"
      },
      "source": [
        "****\n",
        "# 3.1 Indexing in NumPy\n",
        "\n",
        "Indexing allows you to access individual elements or groups of elements from NumPy arrays. Let's explore how to index 1D, 2D, and multi-dimensional arrays.\n",
        "\n",
        "### 1D Arrays\n",
        "\n",
        "For a 1D array, you can access elements using their index, which starts at 0.\n"
      ]
    },
    {
      "cell_type": "code",
      "execution_count": null,
      "metadata": {
        "id": "n5LkbaovKSSF",
        "outputId": "fa879ba4-1970-4f5d-dbea-89de1aea308a"
      },
      "outputs": [
        {
          "name": "stdout",
          "output_type": "stream",
          "text": [
            "First element: 10\n",
            "Third element: 30\n"
          ]
        }
      ],
      "source": [
        "import numpy as np\n",
        "\n",
        "# Creating a 1D NumPy array\n",
        "arr_1d = np.array([10, 20, 30, 40, 50])\n",
        "\n",
        "# Accessing individual elements\n",
        "print(\"First element:\", arr_1d[0])  # Output: 10\n",
        "print(\"Third element:\", arr_1d[2])  # Output: 30"
      ]
    },
    {
      "cell_type": "markdown",
      "metadata": {
        "id": "dE6rVW95KSSF"
      },
      "source": [
        "### 2D Arrays\n",
        "\n",
        "In 2D arrays, you need to specify both the row and column indices.\n"
      ]
    },
    {
      "cell_type": "code",
      "execution_count": null,
      "metadata": {
        "id": "aIHzQfR-KSSG",
        "outputId": "ef90dcd5-4820-4824-d1c6-1467a2a96b57"
      },
      "outputs": [
        {
          "name": "stdout",
          "output_type": "stream",
          "text": [
            "Element at row 1, column 2: 6\n",
            "Element at row 0, column 0: 1\n"
          ]
        }
      ],
      "source": [
        "# Creating a 2D NumPy array\n",
        "arr_2d = np.array([[1, 2, 3], [4, 5, 6], [7, 8, 9]])\n",
        "\n",
        "# Accessing individual elements\n",
        "print(\"Element at row 1, column 2:\", arr_2d[1, 2])  # Output: 6\n",
        "print(\"Element at row 0, column 0:\", arr_2d[0, 0])  # Output: 1"
      ]
    },
    {
      "cell_type": "markdown",
      "metadata": {
        "id": "OOtlpyXTKSSG"
      },
      "source": [
        "### Multi-Dimensional Arrays\n",
        "\n",
        "For multi-dimensional arrays, the indexing approach remains similar, with additional indices as required by the number of dimensions."
      ]
    },
    {
      "cell_type": "code",
      "execution_count": null,
      "metadata": {
        "id": "N8LisElOKSSG",
        "outputId": "b47092f7-c212-417b-bdf6-6ab78771ebf1"
      },
      "outputs": [
        {
          "name": "stdout",
          "output_type": "stream",
          "text": [
            "Element at [1, 0, 1]: 6\n",
            "Element at [0, 1, 0]: 3\n"
          ]
        }
      ],
      "source": [
        "# Creating a 3D NumPy array\n",
        "arr_3d = np.array([[[1, 2], [3, 4]], [[5, 6], [7, 8]]])\n",
        "\n",
        "# Accessing individual elements\n",
        "print(\"Element at [1, 0, 1]:\", arr_3d[1, 0, 1])  # Output: 6\n",
        "print(\"Element at [0, 1, 0]:\", arr_3d[0, 1, 0])  # Output: 3\n"
      ]
    },
    {
      "cell_type": "markdown",
      "metadata": {
        "id": "n3I1z6mSKSSH"
      },
      "source": [
        "## 3.2 Slicing NumPy Arrays\n",
        "\n",
        "Slicing allows you to extract a portion of an array by specifying a range of indices. The general syntax for slicing is `array[start:stop:step`, where `start` is the starting index (inclusive), `stop` is the stopping index (exclusive), and `step` defines the stride.\n",
        "\n",
        "### Slicing Arrays Using Colon `:`\n",
        "\n",
        "For a 1D array, you can slice using the colon operator.\n"
      ]
    },
    {
      "cell_type": "code",
      "execution_count": null,
      "metadata": {
        "id": "SJoueUwFKSSI",
        "outputId": "f7b3f75c-1ba4-4600-9afe-5457437a6474"
      },
      "outputs": [
        {
          "name": "stdout",
          "output_type": "stream",
          "text": [
            "Slice of 1D array: [20 30 40]\n"
          ]
        }
      ],
      "source": [
        "# Slicing a 1D array\n",
        "slice_1d = arr_1d[1:4]  # Elements from index 1 to 3\n",
        "print(\"Slice of 1D array:\", slice_1d)  # Output: [20 30 40]\n"
      ]
    },
    {
      "cell_type": "markdown",
      "metadata": {
        "id": "_Vg57a_pKSSJ"
      },
      "source": [
        "### Slicing 2D Arrays\n",
        "\n",
        "For 2D arrays, you can slice rows and columns independently.\n"
      ]
    },
    {
      "cell_type": "code",
      "execution_count": null,
      "metadata": {
        "id": "Qc-aHC7eKSSK",
        "outputId": "f4966f37-97e7-4cb7-f84c-a0e21694afe5"
      },
      "outputs": [
        {
          "name": "stdout",
          "output_type": "stream",
          "text": [
            "Slice of 2D array:\n",
            " [[2 3]\n",
            " [5 6]]\n"
          ]
        }
      ],
      "source": [
        "# Slicing a 2D array\n",
        "slice_2d = arr_2d[0:2, 1:3]  # Rows 0 to 1 and columns 1 to 2\n",
        "print(\"Slice of 2D array:\\n\", slice_2d)"
      ]
    },
    {
      "cell_type": "markdown",
      "metadata": {
        "id": "y2SGD31aKSSK"
      },
      "source": [
        "### Using Steps and Reverse Slicing\n",
        "\n",
        "You can also specify a step size in your slicing to skip elements.\n"
      ]
    },
    {
      "cell_type": "code",
      "execution_count": null,
      "metadata": {
        "id": "s-2snk7HKSSL",
        "outputId": "934c8446-e9ab-43f5-f525-a21fc4a4a2b6"
      },
      "outputs": [
        {
          "name": "stdout",
          "output_type": "stream",
          "text": [
            "Every second element in 1D array: [10 30 50]\n",
            "Reversed 1D array: [50 40 30 20 10]\n"
          ]
        }
      ],
      "source": [
        "# Using steps in slicing\n",
        "step_slice = arr_1d[::2]  # Every second element\n",
        "print(\"Every second element in 1D array:\", step_slice)  # Output: [10 30 50]\n",
        "\n",
        "# Reverse slicing\n",
        "reverse_slice = arr_1d[::-1]  # Reversing the array\n",
        "print(\"Reversed 1D array:\", reverse_slice)  # Output: [50 40 30 20 10]"
      ]
    },
    {
      "cell_type": "markdown",
      "metadata": {
        "id": "l9N3Y3EwKSSO"
      },
      "source": [
        "### Slicing in Multi-Dimensional Arrays\n",
        "\n",
        "You can slice multi-dimensional arrays similarly, specifying ranges for each dimension."
      ]
    },
    {
      "cell_type": "code",
      "execution_count": null,
      "metadata": {
        "id": "wLzz66LpKSSP",
        "outputId": "2b12ea75-3f60-4898-fcce-335044287063"
      },
      "outputs": [
        {
          "name": "stdout",
          "output_type": "stream",
          "text": [
            "Slice of 3D array:\n",
            " [5 7]\n"
          ]
        }
      ],
      "source": [
        "# Slicing a 3D array\n",
        "slice_3d = arr_3d[1, :, 0]  # Selecting all elements from the second 'plane', first column\n",
        "print(\"Slice of 3D array:\\n\", slice_3d)\n"
      ]
    },
    {
      "cell_type": "markdown",
      "metadata": {
        "id": "APKEq7QZKSSQ"
      },
      "source": [
        "## 3.3 Advanced Indexing\n",
        "\n",
        "In addition to basic indexing and slicing, NumPy provides advanced indexing techniques that allow for more sophisticated ways to access and manipulate data in arrays. This section covers Boolean indexing and fancy indexing.\n",
        "\n",
        "### Boolean Indexing\n",
        "\n",
        "Boolean indexing is a powerful feature that allows you to select elements from an array based on conditions. You create a boolean array that has the same shape as the original array, where each element is `True` or `False`, depending on whether the condition is met.\n",
        "\n",
        "#### Using Boolean Conditions\n",
        "\n",
        "Here's how to use boolean indexing to filter elements in a NumPy array:\n"
      ]
    },
    {
      "cell_type": "code",
      "execution_count": null,
      "metadata": {
        "id": "mlMNaJMHKSSQ",
        "outputId": "b64adc0b-26b1-4403-d345-29d4085c7020"
      },
      "outputs": [
        {
          "name": "stdout",
          "output_type": "stream",
          "text": [
            "Boolean condition (arr > 30): [False False False  True  True  True]\n",
            "Filtered elements (greater than 30): [40 50 60]\n"
          ]
        }
      ],
      "source": [
        "import numpy as np\n",
        "\n",
        "# Creating a NumPy array\n",
        "arr = np.array([10, 20, 30, 40, 50, 60])\n",
        "\n",
        "# Creating a boolean condition to filter elements greater than 30\n",
        "condition = arr > 30\n",
        "print(\"Boolean condition (arr > 30):\", condition)  # Output: [False False False  True  True  True]\n",
        "\n",
        "# Using the boolean condition to get elements\n",
        "filtered_elements = arr[condition]\n",
        "print(\"Filtered elements (greater than 30):\", filtered_elements)  # Output: [40 50 60]\n"
      ]
    },
    {
      "cell_type": "markdown",
      "metadata": {
        "id": "ZqIC7oPUKSSR"
      },
      "source": [
        "### Combining Conditions\n",
        "\n",
        "You can combine multiple boolean conditions using logical operators (`&` for AND, `|` for OR):\n"
      ]
    },
    {
      "cell_type": "code",
      "execution_count": null,
      "metadata": {
        "id": "oX2JnyTvKSSR",
        "outputId": "1dc67dd6-9336-48e6-f4da-d0f05a921774"
      },
      "outputs": [
        {
          "name": "stdout",
          "output_type": "stream",
          "text": [
            "Filtered elements (greater than 20 and less than 50): [30 40]\n"
          ]
        }
      ],
      "source": [
        "# Filtering elements greater than 20 and less than 50\n",
        "filtered_combined = arr[(arr > 20) & (arr < 50)]\n",
        "print(\"Filtered elements (greater than 20 and less than 50):\", filtered_combined)  # Output: [30 40]\n"
      ]
    },
    {
      "cell_type": "markdown",
      "metadata": {
        "id": "fIjB8OtfKSSS"
      },
      "source": [
        "### Fancy Indexing\n",
        "\n",
        "Fancy indexing allows you to access multiple array elements at once using arrays of indices. This technique can be particularly useful when you want to select specific rows or columns from a 2D array.\n",
        "\n",
        "#### Using Arrays of Indices\n",
        "\n",
        "Here's how to use fancy indexing with NumPy:\n"
      ]
    },
    {
      "cell_type": "code",
      "execution_count": null,
      "metadata": {
        "id": "KEn3CsauKSSS",
        "outputId": "68356e46-3b2d-4496-975b-cc7a23752edf"
      },
      "outputs": [
        {
          "name": "stdout",
          "output_type": "stream",
          "text": [
            "Fancy indexed elements: [20 60 70]\n"
          ]
        }
      ],
      "source": [
        "# Creating a 2D NumPy array\n",
        "arr_2d = np.array([[10, 20, 30], [40, 50, 60], [70, 80, 90]])\n",
        "\n",
        "# Fancy indexing with a list of row indices and column indices\n",
        "rows = np.array([0, 1, 2])  # Row indices\n",
        "cols = np.array([1, 2, 0])  # Column indices\n",
        "\n",
        "fancy_indexed_elements = arr_2d[rows, cols]\n",
        "print(\"Fancy indexed elements:\", fancy_indexed_elements)  # Output: [20 60 70]\n"
      ]
    },
    {
      "cell_type": "markdown",
      "metadata": {
        "id": "8TQDNcLGKSST"
      },
      "source": [
        "### Selecting Rows and Columns\n",
        "\n",
        "Fancy indexing can also be used to select entire rows or columns from an array:\n"
      ]
    },
    {
      "cell_type": "code",
      "execution_count": null,
      "metadata": {
        "id": "2ULAhZE2KSST",
        "outputId": "29d77486-6117-4460-8d17-221c14612053"
      },
      "outputs": [
        {
          "name": "stdout",
          "output_type": "stream",
          "text": [
            "Selected rows:\n",
            " [[10 20 30]\n",
            " [70 80 90]]\n",
            "Selected columns:\n",
            " [[10 30]\n",
            " [40 60]\n",
            " [70 90]]\n"
          ]
        }
      ],
      "source": [
        "# Selecting specific rows\n",
        "selected_rows = arr_2d[[0, 2], :]  # Select rows 0 and 2\n",
        "print(\"Selected rows:\\n\", selected_rows)\n",
        "\n",
        "# Selecting specific columns\n",
        "selected_columns = arr_2d[:, [0, 2]]  # Select columns 0 and 2\n",
        "print(\"Selected columns:\\n\", selected_columns)\n"
      ]
    },
    {
      "cell_type": "markdown",
      "metadata": {
        "id": "CbtFccKEKSSV"
      },
      "source": [
        "****\n",
        "# 4. Array Operations\n",
        "\n",
        "NumPy provides a variety of array operations that enable efficient computation and data manipulation. This section covers basic arithmetic operations, mathematical functions, and linear algebra operations.\n",
        "\n",
        "## 4.1 Basic Arithmetic Operations\n",
        "\n",
        "NumPy allows you to perform arithmetic operations on arrays element-wise. This means that when you perform operations on two arrays, NumPy applies the operation to corresponding elements.\n",
        "\n",
        "### Element-wise Operations\n",
        "\n",
        "Here are examples of element-wise addition, subtraction, multiplication, and division:\n"
      ]
    },
    {
      "cell_type": "code",
      "execution_count": null,
      "metadata": {
        "scrolled": true,
        "id": "FuBuMq9_KSSV",
        "outputId": "a96f002f-5dc8-4938-a26c-fc8a261ca8bf"
      },
      "outputs": [
        {
          "name": "stdout",
          "output_type": "stream",
          "text": [
            "Element-wise addition: [11 22 33]\n",
            "Element-wise subtraction: [ 9 18 27]\n",
            "Element-wise multiplication: [10 40 90]\n",
            "Element-wise division: [10. 10. 10.]\n"
          ]
        }
      ],
      "source": [
        "import numpy as np\n",
        "\n",
        "# Creating two NumPy arrays\n",
        "arr1 = np.array([10, 20, 30])\n",
        "arr2 = np.array([1, 2, 3])\n",
        "\n",
        "# Element-wise addition\n",
        "addition_result = arr1 + arr2\n",
        "print(\"Element-wise addition:\", addition_result)  # Output: [11 22 33]\n",
        "\n",
        "# Element-wise subtraction\n",
        "subtraction_result = arr1 - arr2\n",
        "print(\"Element-wise subtraction:\", subtraction_result)  # Output: [ 9 18 27]\n",
        "\n",
        "# Element-wise multiplication\n",
        "multiplication_result = arr1 * arr2\n",
        "print(\"Element-wise multiplication:\", multiplication_result)  # Output: [10 40 90]\n",
        "\n",
        "# Element-wise division\n",
        "division_result = arr1 / arr2\n",
        "print(\"Element-wise division:\", division_result)  # Output: [10. 10. 10.]\n"
      ]
    },
    {
      "cell_type": "markdown",
      "metadata": {
        "id": "vzlHvC3bKSSW"
      },
      "source": [
        "### Broadcasting Concept in NumPy\n",
        "\n",
        "Broadcasting is a powerful feature in NumPy that allows you to perform arithmetic operations on arrays of different shapes. NumPy automatically expands the smaller array across the larger array to match their shapes.\n"
      ]
    },
    {
      "cell_type": "code",
      "execution_count": null,
      "metadata": {
        "id": "56ClY2n0KSSW",
        "outputId": "acfa182f-cf8b-40d0-9ab8-eb91ff849e95"
      },
      "outputs": [
        {
          "name": "stdout",
          "output_type": "stream",
          "text": [
            "Result of broadcasting:\n",
            " [[11 22 33]\n",
            " [41 52 63]]\n"
          ]
        }
      ],
      "source": [
        "# Creating a 1D array and a 2D array\n",
        "arr_1d = np.array([1, 2, 3])\n",
        "arr_2d = np.array([[10, 20, 30], [40, 50, 60]])\n",
        "\n",
        "# Broadcasting: adding a 1D array to a 2D array\n",
        "broadcast_result = arr_2d + arr_1d\n",
        "print(\"Result of broadcasting:\\n\", broadcast_result)\n"
      ]
    },
    {
      "cell_type": "markdown",
      "metadata": {
        "id": "00QFb8LDKSSX"
      },
      "source": [
        "## 4.2 Mathematical Functions\n",
        "\n",
        "NumPy provides built-in mathematical functions that allow you to perform operations efficiently.\n",
        "\n",
        "### Using Built-in NumPy Functions\n",
        "\n",
        "You can use functions like `np.add()`, `np.subtract()`, `np.multiply()`, and `np.divide()` to perform arithmetic operations.\n"
      ]
    },
    {
      "cell_type": "code",
      "execution_count": null,
      "metadata": {
        "id": "wVvBDRiXKSSX",
        "outputId": "5b473ce8-b8fe-4d3e-8d9d-8195768bb804"
      },
      "outputs": [
        {
          "name": "stdout",
          "output_type": "stream",
          "text": [
            "Addition using np.add(): [11 22 33]\n",
            "Subtraction using np.subtract(): [ 9 18 27]\n",
            "Multiplication using np.multiply(): [10 40 90]\n",
            "Division using np.divide(): [10. 10. 10.]\n"
          ]
        }
      ],
      "source": [
        "# Using built-in functions\n",
        "add_result = np.add(arr1, arr2)\n",
        "print(\"Addition using np.add():\", add_result)  # Output: [11 22 33]\n",
        "\n",
        "subtract_result = np.subtract(arr1, arr2)\n",
        "print(\"Subtraction using np.subtract():\", subtract_result)  # Output: [ 9 18 27]\n",
        "\n",
        "multiply_result = np.multiply(arr1, arr2)\n",
        "print(\"Multiplication using np.multiply():\", multiply_result)  # Output: [10 40 90]\n",
        "\n",
        "divide_result = np.divide(arr1, arr2)\n",
        "print(\"Division using np.divide():\", divide_result)  # Output: [10. 10. 10.]\n"
      ]
    },
    {
      "cell_type": "markdown",
      "metadata": {
        "id": "yh5ndg5EKSSY"
      },
      "source": [
        "### Aggregation Functions\n",
        "\n",
        "NumPy also offers aggregation functions that help you summarize data:\n"
      ]
    },
    {
      "cell_type": "code",
      "execution_count": null,
      "metadata": {
        "id": "6QZtnE37KSSY",
        "outputId": "a1c81964-9982-45ca-f828-fd09bcd86cb9"
      },
      "outputs": [
        {
          "name": "stdout",
          "output_type": "stream",
          "text": [
            "Sum of elements: 60\n",
            "Product of elements: 6000\n",
            "Mean of elements: 20.0\n",
            "Standard deviation: 8.16496580927726\n",
            "Variance: 66.66666666666667\n"
          ]
        }
      ],
      "source": [
        "# Aggregation functions\n",
        "sum_result = np.sum(arr1)\n",
        "print(\"Sum of elements:\", sum_result)  # Output: 60\n",
        "\n",
        "prod_result = np.prod(arr1)\n",
        "print(\"Product of elements:\", prod_result)  # Output: 6000\n",
        "\n",
        "mean_result = np.mean(arr1)\n",
        "print(\"Mean of elements:\", mean_result)  # Output: 20.0\n",
        "\n",
        "std_result = np.std(arr1)\n",
        "print(\"Standard deviation:\", std_result)  # Output: 10.0\n",
        "\n",
        "var_result = np.var(arr1)\n",
        "print(\"Variance:\", var_result)  # Output: 100.0\n"
      ]
    },
    {
      "cell_type": "markdown",
      "metadata": {
        "id": "iJMGuV5eKSSZ"
      },
      "source": [
        "## 4.3 Linear Algebra Operations\n",
        "\n",
        "NumPy provides functionality for performing various linear algebra operations.\n",
        "\n",
        "### Matrix Multiplication: `np.dot()`\n",
        "\n",
        "You can perform matrix multiplication using the `np.dot()` function.\n"
      ]
    },
    {
      "cell_type": "code",
      "execution_count": null,
      "metadata": {
        "id": "kGBNK5tiKSSZ",
        "outputId": "006dfac8-88c0-460c-e9dc-cf765f67e6ff"
      },
      "outputs": [
        {
          "name": "stdout",
          "output_type": "stream",
          "text": [
            "Matrix multiplication result:\n",
            " [[19 22]\n",
            " [43 50]]\n"
          ]
        }
      ],
      "source": [
        "# Creating two matrices\n",
        "matrix1 = np.array([[1, 2], [3, 4]])\n",
        "matrix2 = np.array([[5, 6], [7, 8]])\n",
        "\n",
        "# Matrix multiplication\n",
        "dot_result = np.dot(matrix1, matrix2)\n",
        "print(\"Matrix multiplication result:\\n\", dot_result)\n"
      ]
    },
    {
      "cell_type": "markdown",
      "metadata": {
        "id": "TadDqDGGKSSa"
      },
      "source": [
        "### Determinants, Eigenvalues, and Inverse\n",
        "\n",
        "You can compute the determinant, eigenvalues, and inverse of a matrix using functions from the `np.linalg` module.\n"
      ]
    },
    {
      "cell_type": "code",
      "execution_count": null,
      "metadata": {
        "id": "5V97qNB9KSSa",
        "outputId": "099e7d14-9716-4273-d68c-2762a2df66d5"
      },
      "outputs": [
        {
          "name": "stdout",
          "output_type": "stream",
          "text": [
            "Determinant: -2.0000000000000004\n",
            "Inverse of the matrix:\n",
            " [[-2.   1. ]\n",
            " [ 1.5 -0.5]]\n"
          ]
        }
      ],
      "source": [
        "# Determinant\n",
        "det_result = np.linalg.det(matrix1)\n",
        "print(\"Determinant:\", det_result)  # Output: -2.0\n",
        "\n",
        "# Inverse\n",
        "inv_result = np.linalg.inv(matrix1)\n",
        "print(\"Inverse of the matrix:\\n\", inv_result)\n"
      ]
    },
    {
      "cell_type": "markdown",
      "metadata": {
        "id": "Hlk5cGEZKSSb"
      },
      "source": [
        "### Solving Linear Equations: `np.linalg.solve()`\n",
        "\n",
        "To solve a system of linear equations, you can use the `np.linalg.solve()` function.\n"
      ]
    },
    {
      "cell_type": "code",
      "execution_count": null,
      "metadata": {
        "id": "EHxXyBmNKSSd",
        "outputId": "b08a39f2-19ee-4d33-eebd-9f0916f7f8a6"
      },
      "outputs": [
        {
          "name": "stdout",
          "output_type": "stream",
          "text": [
            "Solution to the linear equations: [2. 3.]\n"
          ]
        }
      ],
      "source": [
        "# Coefficient matrix\n",
        "A = np.array([[3, 1], [1, 2]])\n",
        "# Right-hand side\n",
        "b = np.array([9, 8])\n",
        "\n",
        "# Solving the system of equations\n",
        "solution = np.linalg.solve(A, b)\n",
        "print(\"Solution to the linear equations:\", solution)  # Output: [ 2.  3.]\n"
      ]
    },
    {
      "cell_type": "markdown",
      "metadata": {
        "id": "DBvh3BjjKSSg"
      },
      "source": [
        "# 5. NumPy Array Manipulation\n",
        "\n",
        "NumPy offers various functions to manipulate arrays, including joining, splitting, transposing, and swapping axes. This section covers joining and splitting arrays and transposing and swapping axes.\n",
        "\n",
        "## 5.1 Joining and Splitting Arrays\n",
        "\n",
        "Joining and splitting arrays are fundamental operations that allow you to combine multiple arrays into one or break a single array into multiple parts.\n",
        "\n",
        "### Concatenating Arrays\n",
        "\n",
        "You can concatenate arrays using functions like `np.concatenate()`, `np.vstack()`, and `np.hstack()`.\n",
        "\n",
        "#### Using `np.concatenate()`\n",
        "\n",
        "This function joins a sequence of arrays along a specified axis:\n"
      ]
    },
    {
      "cell_type": "code",
      "execution_count": null,
      "metadata": {
        "id": "gvQcyWDkKSSg",
        "outputId": "6d3f8900-9c17-4edb-9674-748f68d49b8a"
      },
      "outputs": [
        {
          "name": "stdout",
          "output_type": "stream",
          "text": [
            "Concatenated 1D array: [1 2 3 4 5 6]\n",
            "Concatenated 2D array (axis 0):\n",
            " [[1 2]\n",
            " [3 4]\n",
            " [5 6]]\n",
            "Concatenated 2D array (axis 1):\n",
            " [[1 2 5]\n",
            " [3 4 6]]\n"
          ]
        }
      ],
      "source": [
        "import numpy as np\n",
        "\n",
        "# Creating two 1D arrays\n",
        "arr1 = np.array([1, 2, 3])\n",
        "arr2 = np.array([4, 5, 6])\n",
        "\n",
        "# Concatenating 1D arrays\n",
        "concat_result_1d = np.concatenate((arr1, arr2))\n",
        "print(\"Concatenated 1D array:\", concat_result_1d)  # Output: [1 2 3 4 5 6]\n",
        "\n",
        "# Creating two 2D arrays\n",
        "arr3 = np.array([[1, 2], [3, 4]])\n",
        "arr4 = np.array([[5, 6]])\n",
        "\n",
        "# Concatenating 2D arrays along axis 0 (rows)\n",
        "concat_result_2d_axis0 = np.concatenate((arr3, arr4), axis=0)\n",
        "print(\"Concatenated 2D array (axis 0):\\n\", concat_result_2d_axis0)\n",
        "\n",
        "# Concatenating 2D arrays along axis 1 (columns)\n",
        "concat_result_2d_axis1 = np.concatenate((arr3, arr4.T), axis=1)  # Transposing arr4 to match dimensions\n",
        "print(\"Concatenated 2D array (axis 1):\\n\", concat_result_2d_axis1)\n"
      ]
    },
    {
      "cell_type": "markdown",
      "metadata": {
        "id": "UeR1q0GwKSSh"
      },
      "source": [
        "### Using `np.vstack()` and `np.hstack()`\n",
        "\n",
        "These functions are shortcuts for vertical and horizontal stacking:\n"
      ]
    },
    {
      "cell_type": "code",
      "execution_count": null,
      "metadata": {
        "id": "WZwdXx_7KSSh",
        "outputId": "2c9a5d4d-ee39-4c2c-d035-c492bc2a20ee"
      },
      "outputs": [
        {
          "name": "stdout",
          "output_type": "stream",
          "text": [
            "Vertical stack result:\n",
            " [[1 2]\n",
            " [3 4]\n",
            " [5 6]]\n",
            "Horizontal stack result:\n",
            " [[1 2 5]\n",
            " [3 4 6]]\n"
          ]
        }
      ],
      "source": [
        "# Vertical stacking (rows)\n",
        "vstack_result = np.vstack((arr3, arr4))\n",
        "print(\"Vertical stack result:\\n\", vstack_result)\n",
        "\n",
        "# Horizontal stacking (columns)\n",
        "hstack_result = np.hstack((arr3, arr4.T))  # Transposing arr4 to match dimensions\n",
        "print(\"Horizontal stack result:\\n\", hstack_result)\n"
      ]
    },
    {
      "cell_type": "markdown",
      "metadata": {
        "id": "bXpuK5qCKSSi"
      },
      "source": [
        "### Splitting Arrays\n",
        "\n",
        "You can split arrays into multiple sub-arrays using functions like `np.split()`, `np.vsplit()`, and `np.hsplit()`.\n",
        "\n",
        "#### Using `np.split()`\n",
        "\n",
        "This function splits an array into multiple sub-arrays along a specified axis:\n"
      ]
    },
    {
      "cell_type": "code",
      "execution_count": null,
      "metadata": {
        "id": "NgNT_553KSSj",
        "outputId": "ce8325f6-2653-4e7d-c4c9-5ad2bc2f0b60"
      },
      "outputs": [
        {
          "name": "stdout",
          "output_type": "stream",
          "text": [
            "Split result: [array([1, 2]), array([3, 4]), array([5, 6])]\n",
            "Vertical split result:\n",
            " [array([[1, 2],\n",
            "       [3, 4]]), array([[5, 6],\n",
            "       [7, 8]]), array([[ 9, 10],\n",
            "       [11, 12]])]\n"
          ]
        }
      ],
      "source": [
        "# Creating a 1D array\n",
        "arr5 = np.array([1, 2, 3, 4, 5, 6])\n",
        "\n",
        "# Splitting the array into 3 equal parts\n",
        "split_result = np.split(arr5, 3)\n",
        "print(\"Split result:\", split_result)  # Output: [array([1, 2]), array([3, 4]), array([5, 6])]\n",
        "\n",
        "# Creating a 2D array with 6 rows\n",
        "arr6 = np.array([[1, 2], [3, 4], [5, 6], [7, 8], [9, 10], [11, 12]])\n",
        "\n",
        "# Splitting the 2D array vertically into 3 equal parts\n",
        "vsplit_result = np.vsplit(arr6, 3)\n",
        "print(\"Vertical split result:\\n\", vsplit_result)"
      ]
    },
    {
      "cell_type": "markdown",
      "metadata": {
        "id": "b2iXcETOKSSl"
      },
      "source": [
        "#### Using `np.hsplit()`\n",
        "\n",
        "This function splits an array horizontally:\n"
      ]
    },
    {
      "cell_type": "code",
      "execution_count": null,
      "metadata": {
        "id": "rwcgM1SjKSSl",
        "outputId": "a21600e9-4ce0-4111-e8c8-c1a38a812fd6"
      },
      "outputs": [
        {
          "name": "stdout",
          "output_type": "stream",
          "text": [
            "Horizontal split result: [array([[ 1],\n",
            "       [ 3],\n",
            "       [ 5],\n",
            "       [ 7],\n",
            "       [ 9],\n",
            "       [11]]), array([[ 2],\n",
            "       [ 4],\n",
            "       [ 6],\n",
            "       [ 8],\n",
            "       [10],\n",
            "       [12]])]\n"
          ]
        }
      ],
      "source": [
        "# Splitting the 2D array horizontally (into 2 arrays)\n",
        "hsplit_result = np.hsplit(arr6, 2)\n",
        "print(\"Horizontal split result:\", hsplit_result)  # Output: [array([[1], [3], [5]]), array([[2], [4], [6]])]"
      ]
    },
    {
      "cell_type": "markdown",
      "metadata": {
        "id": "9_dJ_IKQKSSm"
      },
      "source": [
        "## 5.2 Transposing and Swapping Axes\n",
        "\n",
        "Transposing and swapping axes are essential operations for manipulating the orientation of arrays.\n",
        "\n",
        "### Transposing Arrays: `np.transpose()`\n",
        "\n",
        "The `np.transpose()` function permutes the dimensions of an array, effectively flipping it over its diagonal.\n"
      ]
    },
    {
      "cell_type": "code",
      "execution_count": null,
      "metadata": {
        "id": "6ZbfbAXSKSSm",
        "outputId": "28aaf801-7f9b-49bd-acd6-3f34864e9265"
      },
      "outputs": [
        {
          "name": "stdout",
          "output_type": "stream",
          "text": [
            "Transposed array:\n",
            " [[1 4]\n",
            " [2 5]\n",
            " [3 6]]\n"
          ]
        }
      ],
      "source": [
        "# Creating a 2D array\n",
        "arr7 = np.array([[1, 2, 3], [4, 5, 6]])\n",
        "\n",
        "# Transposing the array\n",
        "transposed_result = np.transpose(arr7)\n",
        "print(\"Transposed array:\\n\", transposed_result)\n"
      ]
    },
    {
      "cell_type": "markdown",
      "metadata": {
        "id": "FT63q6LWKSSn"
      },
      "source": [
        "### Changing Array Axes with `np.swapaxes()`\n",
        "\n",
        "The `np.swapaxes()` function allows you to swap two specified axes of an array.\n"
      ]
    },
    {
      "cell_type": "code",
      "execution_count": null,
      "metadata": {
        "id": "PYNs1mUmKSSn",
        "outputId": "bfee9e16-564d-4ff1-f91f-b391566fd66d"
      },
      "outputs": [
        {
          "name": "stdout",
          "output_type": "stream",
          "text": [
            "Array after swapping axes:\n",
            " [[1 4]\n",
            " [2 5]\n",
            " [3 6]]\n"
          ]
        }
      ],
      "source": [
        "# Swapping axes of a 2D array\n",
        "swapped_result = np.swapaxes(arr7, 0, 1)  # Swapping axis 0 (rows) with axis 1 (columns)\n",
        "print(\"Array after swapping axes:\\n\", swapped_result)\n"
      ]
    },
    {
      "cell_type": "markdown",
      "metadata": {
        "id": "vlDnl6meKSSo"
      },
      "source": [
        "****\n",
        "# 6. Broadcasting in NumPy\n",
        "\n",
        "## 6.1 Introduction to Broadcasting\n",
        "\n",
        "### What is Broadcasting?\n",
        "\n",
        "Broadcasting in NumPy is a powerful mechanism that allows arithmetic operations to be performed on arrays of different shapes and sizes. When performing operations on arrays, NumPy automatically expands the smaller array to match the shape of the larger array. This allows for efficient and intuitive operations without the need for explicit replication of data.\n",
        "\n",
        "### Rules of Broadcasting\n",
        "\n",
        "There are specific rules that govern how NumPy handles broadcasting:\n",
        "\n",
        "1. **Dimensions Compatibility**: If the arrays do not have the same number of dimensions, NumPy pads the shape of the smaller array with ones on the left side until both shapes are the same.\n",
        "\n",
        "2. **Size Compatibility**: Two dimensions are compatible when:\n",
        "   - They are equal, or\n",
        "   - One of them is 1.\n",
        "\n",
        "3. **Array Expansion**: If the dimensions of the arrays do not match, NumPy will stretch the smaller array across the larger array until they are compatible.\n",
        "\n",
        "### Example of Broadcasting Rules\n",
        "\n",
        "Let’s explore how these rules work with some examples.\n"
      ]
    },
    {
      "cell_type": "code",
      "execution_count": null,
      "metadata": {
        "id": "A7oy050BKSSp",
        "outputId": "ae38ad38-36eb-42ed-aa7d-01e3732a2da3"
      },
      "outputs": [
        {
          "name": "stdout",
          "output_type": "stream",
          "text": [
            "Result of broadcasting:\n",
            " [[11 22 33]\n",
            " [14 25 36]\n",
            " [17 28 39]]\n"
          ]
        }
      ],
      "source": [
        "import numpy as np\n",
        "\n",
        "# Create a 2D array (3x3)\n",
        "array_2d = np.array([[1, 2, 3],\n",
        "                     [4, 5, 6],\n",
        "                     [7, 8, 9]])\n",
        "\n",
        "# Create a 1D array (1x3)\n",
        "array_1d = np.array([10, 20, 30])\n",
        "\n",
        "# Broadcasting: Adding a 1D array to a 2D array\n",
        "result = array_2d + array_1d\n",
        "print(\"Result of broadcasting:\\n\", result)"
      ]
    },
    {
      "cell_type": "markdown",
      "metadata": {
        "id": "FqrOhMLaKSSq"
      },
      "source": [
        "- In this example, the 1D array is broadcasted to match the shape of the 2D array. The smaller array is added to each row of the larger array.\n",
        "\n"
      ]
    },
    {
      "cell_type": "markdown",
      "metadata": {
        "id": "mB-vU5ePKSSr"
      },
      "source": [
        "## 6.2 Broadcasting Examples\n",
        "\n",
        "Now, let’s look at some practical examples of broadcasting in array operations.\n",
        "\n",
        "### Example 1: Adding a Scalar to an Array\n",
        "\n",
        "When you add a scalar (single value) to an array, the scalar is broadcasted to all elements of the array.\n"
      ]
    },
    {
      "cell_type": "code",
      "execution_count": null,
      "metadata": {
        "id": "PvtY2x3sKSSr",
        "outputId": "5de3f783-b87e-4f80-c600-c6b4b620a63f"
      },
      "outputs": [
        {
          "name": "stdout",
          "output_type": "stream",
          "text": [
            "Result of adding scalar:\n",
            " [ 6  7  8  9 10]\n"
          ]
        }
      ],
      "source": [
        "# Creating a 1D array\n",
        "array = np.array([1, 2, 3, 4, 5])\n",
        "\n",
        "# Adding a scalar value\n",
        "scalar_result = array + 5\n",
        "print(\"Result of adding scalar:\\n\", scalar_result)\n"
      ]
    },
    {
      "cell_type": "markdown",
      "metadata": {
        "id": "v2cVviZRKSSu"
      },
      "source": [
        "### Example 2: Subtracting a 1D Array from a 2D Array\n",
        "\n",
        "Here’s how a 1D array can be subtracted from a 2D array, demonstrating broadcasting.\n"
      ]
    },
    {
      "cell_type": "code",
      "execution_count": null,
      "metadata": {
        "id": "jZ3af2zqKSSw",
        "outputId": "6a3cc2e5-154e-4fdf-99d6-9a5bac7b7435"
      },
      "outputs": [
        {
          "name": "stdout",
          "output_type": "stream",
          "text": [
            "Result of subtracting a 1D array:\n",
            " [[ 9 18 27]\n",
            " [39 48 57]\n",
            " [69 78 87]]\n"
          ]
        }
      ],
      "source": [
        "# Creating a 2D array\n",
        "array_2d = np.array([[10, 20, 30],\n",
        "                     [40, 50, 60],\n",
        "                     [70, 80, 90]])\n",
        "\n",
        "# Subtracting a 1D array\n",
        "array_1d = np.array([1, 2, 3])\n",
        "result_subtract = array_2d - array_1d\n",
        "print(\"Result of subtracting a 1D array:\\n\", result_subtract)"
      ]
    },
    {
      "cell_type": "markdown",
      "metadata": {
        "id": "grm49h21KSSy"
      },
      "source": [
        "### Example 3: Multiplying Arrays of Different Shapes\n",
        "\n",
        "You can also multiply arrays of different shapes, as long as they are compatible according to the broadcasting rules.\n"
      ]
    },
    {
      "cell_type": "code",
      "execution_count": null,
      "metadata": {
        "id": "zSR8VkEkKSSz",
        "outputId": "9b930f60-3b84-4a1e-c961-bd164121b11c"
      },
      "outputs": [
        {
          "name": "stdout",
          "output_type": "stream",
          "text": [
            "Result of multiplying with a 1D array:\n",
            " [[[ 2  6 12]\n",
            "  [ 8 15 24]]\n",
            "\n",
            " [[14 24 36]\n",
            "  [20 33 48]]]\n"
          ]
        }
      ],
      "source": [
        "# Creating a 3D array\n",
        "array_3d = np.array([[[1, 2, 3],\n",
        "                      [4, 5, 6]],\n",
        "\n",
        "                     [[7, 8, 9],\n",
        "                      [10, 11, 12]]])\n",
        "\n",
        "# Creating a 1D array\n",
        "array_1d = np.array([2, 3, 4])\n",
        "\n",
        "# Broadcasting for multiplication\n",
        "result_multiply = array_3d * array_1d\n",
        "print(\"Result of multiplying with a 1D array:\\n\", result_multiply)\n"
      ]
    },
    {
      "cell_type": "markdown",
      "metadata": {
        "id": "msu7ysojKSS1"
      },
      "source": [
        "****\n",
        "# 7. Working with Random Numbers\n",
        "\n",
        "## 7.1 Random Number Generation\n",
        "\n",
        "### Generating Random Numbers\n",
        "\n",
        "NumPy provides a range of functions for generating random numbers. The most commonly used functions include:\n",
        "\n",
        "- `np.random.rand()`: Generates random numbers in a uniform distribution over the interval \\([0.0, 1.0)\\).\n",
        "- `np.random.randint()`: Generates random integers within a specified range.\n",
        "\n",
        "### Example: Generating Random Numbers\n"
      ]
    },
    {
      "cell_type": "code",
      "execution_count": null,
      "metadata": {
        "id": "5G6UPWP-KSS1",
        "outputId": "e625bd29-0114-485c-d3fd-41fee38824e0"
      },
      "outputs": [
        {
          "name": "stdout",
          "output_type": "stream",
          "text": [
            "Random floats between 0 and 1: [0.34512642 0.92052229 0.52250164 0.15854366 0.59219072]\n",
            "Random integers between 0 and 10: [8 1 2 1 6]\n"
          ]
        }
      ],
      "source": [
        "import numpy as np\n",
        "\n",
        "# Generating 5 random numbers between 0 and 1\n",
        "random_floats = np.random.rand(5)\n",
        "print(\"Random floats between 0 and 1:\", random_floats)\n",
        "\n",
        "# Generating 5 random integers between 0 and 10\n",
        "random_integers = np.random.randint(0, 10, size=5)\n",
        "print(\"Random integers between 0 and 10:\", random_integers)"
      ]
    },
    {
      "cell_type": "markdown",
      "metadata": {
        "id": "MO2NnUQaKSS1"
      },
      "source": [
        "### Random Sampling and Shuffling\n",
        "\n",
        "NumPy also allows for random sampling and shuffling of arrays.\n",
        "\n",
        "- `np.random.shuffle()`: Shuffles the array in place.\n",
        "\n",
        "##### Example: Random Sampling and Shuffling\n"
      ]
    },
    {
      "cell_type": "code",
      "execution_count": null,
      "metadata": {
        "id": "NT-JCi1qKSS2",
        "outputId": "c555928a-ca37-4f09-e22d-10f18aacb870"
      },
      "outputs": [
        {
          "name": "stdout",
          "output_type": "stream",
          "text": [
            "Shuffled array: [4 1 2 5 6 3]\n"
          ]
        }
      ],
      "source": [
        "# Creating an array\n",
        "arr = np.array([1, 2, 3, 4, 5, 6])\n",
        "\n",
        "# Shuffling the array\n",
        "np.random.shuffle(arr)\n",
        "print(\"Shuffled array:\", arr)\n"
      ]
    },
    {
      "cell_type": "markdown",
      "metadata": {
        "id": "2-DwwhByKSS2"
      },
      "source": [
        "## 7.2 Statistical Distributions\n",
        "\n",
        "NumPy provides functions to work with various statistical distributions, such as normal, uniform, and binomial distributions.\n",
        "\n",
        "### Normal Distribution\n",
        "\n",
        "The normal distribution is a continuous probability distribution defined by a mean and standard deviation.\n",
        "\n",
        "- `np.random.normal(loc, scale, size)`: Generates random samples from a normal distribution with a given mean (`loc`) and standard deviation (`scale`).\n",
        "\n",
        "##### Example: Normal Distribution\n"
      ]
    },
    {
      "cell_type": "code",
      "execution_count": null,
      "metadata": {
        "id": "i1U8PmkUKSS3",
        "outputId": "9e798e8e-1775-4500-d173-74781d516344"
      },
      "outputs": [
        {
          "name": "stdout",
          "output_type": "stream",
          "text": [
            "First 10 samples from normal distribution: [ 0.81308682  0.06739897  1.02873129 -0.47508258  0.19541584 -0.7608256\n",
            "  0.64213724  0.15322831  0.92806136  1.52277928]\n"
          ]
        }
      ],
      "source": [
        "# Generating 1000 random numbers from a normal distribution\n",
        "mean = 0\n",
        "std_dev = 1\n",
        "normal_samples = np.random.normal(mean, std_dev, size=1000)\n",
        "\n",
        "# Displaying the first 10 samples\n",
        "print(\"First 10 samples from normal distribution:\", normal_samples[:10])\n"
      ]
    },
    {
      "cell_type": "markdown",
      "metadata": {
        "id": "1IpyI3jkKSS4"
      },
      "source": [
        "### Uniform Distribution\n",
        "\n",
        "The uniform distribution is a type of distribution where all outcomes are equally likely.\n",
        "\n",
        "- `np.random.uniform(low, high, size)`: Generates random samples from a uniform distribution over the half-open interval \\([low, high)\\).\n",
        "\n",
        "##### Example: Uniform Distribution\n"
      ]
    },
    {
      "cell_type": "code",
      "execution_count": null,
      "metadata": {
        "id": "adwHChptKSS4",
        "outputId": "472bb9ef-3d70-4165-e5f5-fcd139e1c2dd"
      },
      "outputs": [
        {
          "name": "stdout",
          "output_type": "stream",
          "text": [
            "Random samples from uniform distribution: [4.48967163 9.35192288 8.80380683 6.14654207 1.31133835]\n"
          ]
        }
      ],
      "source": [
        "# Generating 5 random numbers from a uniform distribution\n",
        "uniform_samples = np.random.uniform(1, 10, size=5)\n",
        "print(\"Random samples from uniform distribution:\", uniform_samples)\n"
      ]
    },
    {
      "cell_type": "markdown",
      "metadata": {
        "id": "fqdmBPgdKSS6"
      },
      "source": [
        "### Binomial Distribution\n",
        "\n",
        "The binomial distribution represents the number of successes in a fixed number of independent Bernoulli trials.\n",
        "\n",
        "- `np.random.binomial(n, p, size)`: Generates random samples from a binomial distribution with \\( n \\) trials and probability of success \\( p \\).\n",
        "\n",
        "##### Example: Binomial Distribution\n"
      ]
    },
    {
      "cell_type": "code",
      "execution_count": null,
      "metadata": {
        "id": "QAjsOe5MKSS7",
        "outputId": "df5ac455-2cc7-47bd-ad04-c1bcf00f0526"
      },
      "outputs": [
        {
          "name": "stdout",
          "output_type": "stream",
          "text": [
            "Random samples from binomial distribution: [2 4 3 4 4 7 8 7 8 2]\n"
          ]
        }
      ],
      "source": [
        "# Generating 10 random samples from a binomial distribution\n",
        "n_trials = 10  # Number of trials\n",
        "p_success = 0.5  # Probability of success\n",
        "binomial_samples = np.random.binomial(n_trials, p_success, size=10)\n",
        "print(\"Random samples from binomial distribution:\", binomial_samples)\n"
      ]
    },
    {
      "cell_type": "markdown",
      "metadata": {
        "id": "k2wq8hGrKSTB"
      },
      "source": [
        "****\n",
        "# 8. NumPy for Data Analysis\n",
        "\n",
        "## 8.1 Statistical Functions\n",
        "\n",
        "NumPy provides various statistical functions that are essential for data analysis. These functions allow you to perform calculations like finding the minimum, maximum, and percentiles, as well as cumulative sums and products.\n",
        "\n",
        "#### Calculating Minimum, Maximum, and Percentiles\n",
        "\n",
        "- `np.min()`: Returns the minimum value in an array.\n",
        "- `np.max()`: Returns the maximum value in an array.\n",
        "- `np.percentile()`: Computes the nth percentile of the data along a specified axis.\n",
        "\n",
        "##### Example: Minimum, Maximum, and Percentiles\n"
      ]
    },
    {
      "cell_type": "code",
      "execution_count": null,
      "metadata": {
        "id": "AxUcl3_6KSTD",
        "outputId": "6c805244-e5b9-48fb-aa79-02f983917076"
      },
      "outputs": [
        {
          "name": "stdout",
          "output_type": "stream",
          "text": [
            "Minimum: 10, Maximum: 90\n",
            "25th Percentile: 30.0, 50th Percentile: 50.0, 75th Percentile: 70.0\n"
          ]
        }
      ],
      "source": [
        "import numpy as np\n",
        "\n",
        "# Creating a sample array\n",
        "data = np.array([10, 20, 30, 40, 50, 60, 70, 80, 90])\n",
        "\n",
        "# Calculating minimum and maximum\n",
        "minimum = np.min(data)\n",
        "maximum = np.max(data)\n",
        "\n",
        "# Calculating percentiles\n",
        "percentile_25 = np.percentile(data, 25)\n",
        "percentile_50 = np.percentile(data, 50)  # This is the median\n",
        "percentile_75 = np.percentile(data, 75)\n",
        "\n",
        "print(f\"Minimum: {minimum}, Maximum: {maximum}\")\n",
        "print(f\"25th Percentile: {percentile_25}, 50th Percentile: {percentile_50}, 75th Percentile: {percentile_75}\")\n"
      ]
    },
    {
      "cell_type": "markdown",
      "metadata": {
        "id": "26m1-asXKSTE"
      },
      "source": [
        "### Cumulative Sum and Product\n",
        "\n",
        "- `np.cumsum()`: Returns the cumulative sum of the elements along a given axis.\n",
        "- `np.cumprod()`: Returns the cumulative product of the elements along a given axis.\n",
        "\n",
        "##### Example: Cumulative Sum and Product\n"
      ]
    },
    {
      "cell_type": "code",
      "execution_count": null,
      "metadata": {
        "id": "7_Ydfht4KSTE",
        "outputId": "05d62eee-686f-47e6-8277-08158bbbfbee"
      },
      "outputs": [
        {
          "name": "stdout",
          "output_type": "stream",
          "text": [
            "Cumulative Sum: [ 1  3  6 10 15]\n",
            "Cumulative Product: [  1   2   6  24 120]\n"
          ]
        }
      ],
      "source": [
        "# Creating a sample array\n",
        "data = np.array([1, 2, 3, 4, 5])\n",
        "\n",
        "# Calculating cumulative sum and product\n",
        "cumulative_sum = np.cumsum(data)\n",
        "cumulative_product = np.cumprod(data)\n",
        "\n",
        "print(f\"Cumulative Sum: {cumulative_sum}\")\n",
        "print(f\"Cumulative Product: {cumulative_product}\")\n"
      ]
    },
    {
      "cell_type": "markdown",
      "metadata": {
        "id": "liXUDPPtKSTF"
      },
      "source": [
        "## 8.2 Sorting and Searching in Arrays\n",
        "\n",
        "NumPy offers functions for sorting and searching elements within arrays, making it easier to analyze data.\n",
        "\n",
        "### Sorting Arrays\n",
        "\n",
        "- `np.sort()`: Returns a sorted copy of an array. The original array remains unchanged. You can specify the axis to sort along.\n",
        "\n",
        "##### Example: Sorting Arrays\n"
      ]
    },
    {
      "cell_type": "code",
      "execution_count": null,
      "metadata": {
        "id": "EcNy_QhEKSTG",
        "outputId": "6e90a083-349e-4456-ddd0-bfd3636c83c3"
      },
      "outputs": [
        {
          "name": "stdout",
          "output_type": "stream",
          "text": [
            "Original array: [5 2 9 1 5 6]\n",
            "Sorted array: [1 2 5 5 6 9]\n"
          ]
        }
      ],
      "source": [
        "# Creating a sample array\n",
        "data = np.array([5, 2, 9, 1, 5, 6])\n",
        "\n",
        "# Sorting the array\n",
        "sorted_data = np.sort(data)\n",
        "print(\"Original array:\", data)\n",
        "print(\"Sorted array:\", sorted_data)\n"
      ]
    },
    {
      "cell_type": "markdown",
      "metadata": {
        "id": "k_9C5T1dKSTG"
      },
      "source": [
        "### Searching Elements in Arrays\n",
        "\n",
        "- `np.where()`: Returns the indices of elements in an array that satisfy a given condition.\n",
        "- `np.searchsorted()`: Finds indices where elements should be inserted to maintain order.\n",
        "\n",
        "##### Example: Searching Elements\n"
      ]
    },
    {
      "cell_type": "code",
      "execution_count": null,
      "metadata": {
        "id": "9LN8Y5_rKSTH",
        "outputId": "b1b447e3-cab1-44fb-e614-4685fa471a6b"
      },
      "outputs": [
        {
          "name": "stdout",
          "output_type": "stream",
          "text": [
            "Indices of elements greater than 5: (array([3, 4], dtype=int64),)\n",
            "Index to insert 6 to maintain order: 3\n"
          ]
        }
      ],
      "source": [
        "# Creating a sample array\n",
        "data = np.array([1, 3, 5, 7, 9])\n",
        "\n",
        "# Finding indices of elements that are greater than 5\n",
        "indices = np.where(data > 5)\n",
        "print(\"Indices of elements greater than 5:\", indices)\n",
        "\n",
        "# Using searchsorted to find index to insert new values\n",
        "insert_value = 6\n",
        "insert_index = np.searchsorted(data, insert_value)\n",
        "print(f\"Index to insert {insert_value} to maintain order: {insert_index}\")\n"
      ]
    },
    {
      "cell_type": "markdown",
      "metadata": {
        "id": "QKxoT5NkKSTH"
      },
      "source": [
        "****\n",
        "## 9. NumPy and Memory Efficiency\n",
        "\n",
        "Understanding memory efficiency in NumPy is crucial for optimizing performance, especially when working with large datasets. This section covers the memory layout of arrays and how to perform memory-efficient operations.\n",
        "\n",
        "### 9.1 Memory Layout\n",
        "\n",
        "NumPy arrays can be stored in different memory layouts, which can affect performance. The two primary layouts are C-order (row-major) and F-order (column-major).\n",
        "\n",
        "#### C-order vs. F-order\n",
        "\n",
        "- **C-order**: In C-order (or row-major order), elements are stored row by row. This means that consecutive elements of a row are stored in adjacent memory locations. This layout is the default for NumPy arrays.\n",
        "\n",
        "- **F-order**: In F-order (or column-major order), elements are stored column by column. This means that consecutive elements of a column are stored in adjacent memory locations.\n",
        "\n",
        "##### Example: Array Memory Layout\n",
        "\n",
        "You can check the memory layout of an array using the `order` parameter when creating the array and using the `ndarray.flags` attribute to check the memory layout."
      ]
    },
    {
      "cell_type": "code",
      "execution_count": null,
      "metadata": {
        "id": "VnJs69ClKSTI",
        "outputId": "bb7cc424-ca0d-4e8c-9c28-60536aca6506"
      },
      "outputs": [
        {
          "name": "stdout",
          "output_type": "stream",
          "text": [
            "C-order array:\n",
            "[[1 2 3]\n",
            " [4 5 6]]\n",
            "C-order layout: True\n",
            "\n",
            "F-order array:\n",
            "[[1 2 3]\n",
            " [4 5 6]]\n",
            "F-order layout: True\n"
          ]
        }
      ],
      "source": [
        "import numpy as np\n",
        "\n",
        "# Creating a 2D array in C-order\n",
        "array_c = np.array([[1, 2, 3], [4, 5, 6]], order='C')\n",
        "print(\"C-order array:\")\n",
        "print(array_c)\n",
        "print(\"C-order layout:\", array_c.flags['C_CONTIGUOUS'])\n",
        "\n",
        "# Creating a 2D array in F-order\n",
        "array_f = np.array([[1, 2, 3], [4, 5, 6]], order='F')\n",
        "print(\"\\nF-order array:\")\n",
        "print(array_f)\n",
        "print(\"F-order layout:\", array_f.flags['F_CONTIGUOUS'])\n"
      ]
    },
    {
      "cell_type": "markdown",
      "metadata": {
        "id": "maQ3SzwlKSTK"
      },
      "source": [
        "### 9.2 Memory Efficient Operations\n",
        "\n",
        "When working with NumPy arrays, performing operations efficiently can help save memory and improve performance.\n",
        "\n",
        "#### In-place Operations\n",
        "\n",
        "In-place operations modify the array without creating a copy. This can significantly save memory, especially with large datasets. You can use operations like `+=`, `-=`, `*=`, and `/=` for in-place modifications.\n",
        "\n",
        "##### Example: In-place Operations\n"
      ]
    },
    {
      "cell_type": "code",
      "execution_count": null,
      "metadata": {
        "id": "IWvZBxQBKSTK",
        "outputId": "e08d873f-1fae-43f8-a8fe-7118f4d292c6"
      },
      "outputs": [
        {
          "name": "stdout",
          "output_type": "stream",
          "text": [
            "Array after in-place addition: [11 12 13 14 15]\n"
          ]
        }
      ],
      "source": [
        "# Creating a sample array\n",
        "data = np.array([1, 2, 3, 4, 5])\n",
        "\n",
        "# Performing in-place addition\n",
        "data += 10\n",
        "print(\"Array after in-place addition:\", data)\n"
      ]
    },
    {
      "cell_type": "markdown",
      "metadata": {
        "id": "yWbeFsWXKSTL"
      },
      "source": [
        "### Copying vs. Viewing Arrays\n",
        "\n",
        "##### Copying\n",
        "- When you use the `copy()` method, a new array is created, and changes to the new array do not affect the original array.\n",
        "\n",
        "##### Viewing\n",
        "- When you use the `view()` method, a new view of the original array is created. Changes to the view will affect the original array because both share the same data buffer.\n",
        "\n",
        "##### Example: Copying vs. Viewing"
      ]
    },
    {
      "cell_type": "code",
      "execution_count": null,
      "metadata": {
        "id": "5uX8fi9BKSTM",
        "outputId": "d683e829-88c5-4061-fbe4-703289dd6171"
      },
      "outputs": [
        {
          "name": "stdout",
          "output_type": "stream",
          "text": [
            "Original array after modifying copied array: [1 2 3 4 5]\n",
            "Original array after modifying viewed array: [20  2  3  4  5]\n"
          ]
        }
      ],
      "source": [
        "# Creating a sample array\n",
        "original = np.array([1, 2, 3, 4, 5])\n",
        "\n",
        "# Creating a copy\n",
        "copied_array = original.copy()\n",
        "copied_array[0] = 10  # Modify the copied array\n",
        "print(\"Original array after modifying copied array:\", original)\n",
        "\n",
        "# Creating a view\n",
        "viewed_array = original.view()\n",
        "viewed_array[0] = 20  # Modify the viewed array\n",
        "print(\"Original array after modifying viewed array:\", original)\n"
      ]
    },
    {
      "cell_type": "markdown",
      "metadata": {
        "id": "e6tdqR6tKSTM"
      },
      "source": [
        "****\n",
        "## 10. NumPy for Advanced Users\n",
        "\n",
        "In this section, we will explore advanced features of NumPy that can help you handle complex data structures and manage missing data efficiently. We'll cover structured arrays and masked arrays, providing examples and explanations for each.\n",
        "\n",
        "### 10.1 Structured Arrays\n",
        "Structured arrays allow you to create arrays with different data types for each column, similar to a table in a database or a DataFrame in pandas. This is useful when you want to group related data together.\n",
        "\n",
        "#### Creating and Manipulating Structured Arrays\n",
        "You can create structured arrays by defining a data type using `np.dtype()` and then passing a list of tuples or dictionaries to create the array.\n",
        "\n",
        "##### Example: Creating a Structured Array\n"
      ]
    },
    {
      "cell_type": "code",
      "execution_count": null,
      "metadata": {
        "id": "f3-UUJDFKSTN",
        "outputId": "6c309841-f4e7-41d0-c0f8-c342ae7cb1bd"
      },
      "outputs": [
        {
          "name": "stdout",
          "output_type": "stream",
          "text": [
            "Structured Array:\n",
            "[('Alice', 25, 5.5) ('Bob', 30, 6. )]\n"
          ]
        }
      ],
      "source": [
        "import numpy as np\n",
        "\n",
        "# Define a structured data type\n",
        "dtype = np.dtype([('name', 'U10'), ('age', 'i4'), ('height', 'f4')])\n",
        "\n",
        "# Create a structured array\n",
        "data = np.array([('Alice', 25, 5.5), ('Bob', 30, 6.0)], dtype=dtype)\n",
        "\n",
        "print(\"Structured Array:\")\n",
        "print(data)\n"
      ]
    },
    {
      "cell_type": "markdown",
      "metadata": {
        "id": "GNLYLeiVKSTQ"
      },
      "source": [
        "#### Accessing Structured Array Fields\n",
        "You can access the fields of a structured array using the field names. This allows for easy manipulation and retrieval of specific data.\n",
        "\n",
        "##### Example: Accessing Fields\n"
      ]
    },
    {
      "cell_type": "code",
      "execution_count": null,
      "metadata": {
        "id": "Qxwri5SqKSTR",
        "outputId": "41f44425-7154-4bed-d3b7-aab31c574236"
      },
      "outputs": [
        {
          "name": "stdout",
          "output_type": "stream",
          "text": [
            "Names: ['Alice' 'Bob']\n",
            "Ages: [25 30]\n",
            "Heights: [5.5 6. ]\n"
          ]
        }
      ],
      "source": [
        "# Accessing the 'name' field\n",
        "names = data['name']\n",
        "print(\"Names:\", names)\n",
        "\n",
        "# Accessing the 'age' field\n",
        "ages = data['age']\n",
        "print(\"Ages:\", ages)\n",
        "\n",
        "# Accessing the 'height' field\n",
        "heights = data['height']\n",
        "print(\"Heights:\", heights)"
      ]
    },
    {
      "cell_type": "markdown",
      "metadata": {
        "id": "SlcI-LgyKSTR"
      },
      "source": [
        "### 10.2 Masked Arrays\n",
        "Masked arrays are used to handle missing or invalid data. With masked arrays, you can mask certain elements of an array, effectively ignoring them in calculations and analyses.\n",
        "\n",
        "#### Working with Missing Data Using Masked Arrays\n",
        "You can create a masked array using `np.ma.array()`, where you specify the mask to indicate which values are valid or invalid.\n",
        "\n",
        "##### Example: Creating a Masked Array\n"
      ]
    },
    {
      "cell_type": "code",
      "execution_count": null,
      "metadata": {
        "id": "X_ujKNOLKSTR",
        "outputId": "f7084c45-7e67-4c5b-dedd-b1c0ca618b3d"
      },
      "outputs": [
        {
          "name": "stdout",
          "output_type": "stream",
          "text": [
            "Masked Array:\n",
            "[1.0 2.0 -- 4.0 5.0]\n"
          ]
        }
      ],
      "source": [
        "# Creating a regular array\n",
        "data = np.array([1, 2, np.nan, 4, 5])\n",
        "\n",
        "# Creating a masked array\n",
        "masked_data = np.ma.masked_array(data, mask=np.isnan(data))\n",
        "\n",
        "print(\"Masked Array:\")\n",
        "print(masked_data)\n"
      ]
    },
    {
      "cell_type": "markdown",
      "metadata": {
        "id": "6wiRDMkwKSTR"
      },
      "source": [
        "##### Example: Performing Calculations with Masked Arrays\n",
        "Operations on masked arrays automatically ignore the masked elements. This allows you to perform calculations without having to manually filter out invalid data.\n"
      ]
    },
    {
      "cell_type": "code",
      "execution_count": null,
      "metadata": {
        "id": "3vSD6D26KSTS",
        "outputId": "0dd8854d-610d-4155-ac47-3cdb5973157d"
      },
      "outputs": [
        {
          "name": "stdout",
          "output_type": "stream",
          "text": [
            "Mean (ignoring masked values): 3.0\n"
          ]
        }
      ],
      "source": [
        "# Calculate the mean while ignoring the masked values\n",
        "mean_value = np.ma.mean(masked_data)\n",
        "print(\"Mean (ignoring masked values):\", mean_value)\n"
      ]
    },
    {
      "cell_type": "markdown",
      "metadata": {
        "id": "hb0BsOyNKSTS"
      },
      "source": [
        "****\n",
        "### 11. File Input/Output with NumPy\n",
        "\n",
        "File input and output (I/O) is essential for data analysis, as it allows you to save and load arrays for later use. NumPy provides various functions to handle file I/O efficiently. In this section, we will cover saving and loading arrays, working with .npy and .npz files, and how to save multiple arrays in one file.\n",
        "\n",
        "#### 11.1 Saving and Loading Arrays\n",
        "NumPy provides functions to save and load arrays in both text and binary formats.\n",
        "\n",
        "**Saving Arrays to Text and Binary Files**\n",
        "- **np.savetxt()**: This function is used to save arrays to a text file. You can specify the delimiter and format for the output.\n",
        "- **np.save()**: This function saves an array to a binary file with a .npy extension.\n",
        "\n",
        "##### Example: Saving Arrays\n",
        "```python\n",
        "import numpy as np\n",
        "\n",
        "# Create a NumPy array\n",
        "array = np.array([[1, 2, 3], [4, 5, 6]])\n",
        "\n",
        "# Save the array to a text file\n",
        "np.savetxt('array.txt', array, delimiter=',', fmt='%d')\n",
        "\n",
        "# Save the array to a binary file\n",
        "np.save('array.npy', array)\n"
      ]
    },
    {
      "cell_type": "code",
      "execution_count": null,
      "metadata": {
        "id": "5NT6u-2bKSTT",
        "outputId": "f2644b88-a5dc-4449-d900-de111736a921"
      },
      "outputs": [
        {
          "name": "stdout",
          "output_type": "stream",
          "text": [
            "Array saved to array.txt\n",
            "Array saved to array.npy\n"
          ]
        }
      ],
      "source": [
        "import numpy as np\n",
        "\n",
        "# Create an array\n",
        "array = np.array([[1, 2, 3], [4, 5, 6]])\n",
        "\n",
        "# Save the array to a text file\n",
        "np.savetxt('array.txt', array, delimiter=',', fmt='%d')\n",
        "print(\"Array saved to array.txt\")\n",
        "\n",
        "# Save the array to a binary file\n",
        "np.save('array.npy', array)\n",
        "print(\"Array saved to array.npy\")"
      ]
    },
    {
      "cell_type": "markdown",
      "metadata": {
        "id": "OAG8ztf0KSTT"
      },
      "source": [
        "#### Loading Arrays from Files\n",
        "- **np.loadtxt()**: This function is used to load arrays from a text file.\n",
        "- **np.load()**: This function loads arrays from a binary file.\n",
        "\n",
        "##### Example: Loading Arrays\n",
        "```python\n",
        "import numpy as np\n",
        "\n",
        "# Load the array from a text file\n",
        "loaded_array_txt = np.loadtxt('array.txt', delimiter=',')\n",
        "print(\"Loaded array from text file:\")\n",
        "print(loaded_array_txt)\n",
        "\n",
        "# Load the array from a binary file\n",
        "loaded_array_bin = np.load('array.npy')\n",
        "print(\"Loaded array from binary file:\")\n",
        "print(loaded_array_bin)\n"
      ]
    },
    {
      "cell_type": "code",
      "execution_count": null,
      "metadata": {
        "id": "XmU2qAWpKSTT",
        "outputId": "53dcb7bc-aab6-4607-bc02-03c99c7952c1"
      },
      "outputs": [
        {
          "name": "stdout",
          "output_type": "stream",
          "text": [
            "Loaded array from text file:\n",
            "[[1. 2. 3.]\n",
            " [4. 5. 6.]]\n",
            "\n",
            "Loaded array from binary file:\n",
            "[[1 2 3]\n",
            " [4 5 6]]\n"
          ]
        }
      ],
      "source": [
        "# Load the array from the text file\n",
        "loaded_array_txt = np.loadtxt('array.txt', delimiter=',')\n",
        "print(\"Loaded array from text file:\")\n",
        "print(loaded_array_txt)\n",
        "\n",
        "# Load the array from the binary file\n",
        "loaded_array_bin = np.load('array.npy')\n",
        "print(\"\\nLoaded array from binary file:\")\n",
        "print(loaded_array_bin)"
      ]
    },
    {
      "cell_type": "markdown",
      "metadata": {
        "id": "kjI7EKdyKSTU"
      },
      "source": [
        "#### Working with .npy and .npz Files\n",
        "- **Saving Multiple Arrays in One File**: The `.npy` format is ideal for saving single arrays, while the `.npz` format allows you to save multiple arrays in a single file. You can use the **np.savez()** function for this purpose.\n",
        "\n",
        "##### Example: Saving Multiple Arrays\n",
        "```python\n",
        "import numpy as np\n",
        "\n",
        "# Create some example arrays\n",
        "array1 = np.array([1, 2, 3])\n",
        "array2 = np.array([[4, 5], [6, 7]])\n",
        "array3 = np.array([[8, 9, 10]])\n",
        "\n",
        "# Save multiple arrays in a single .npz file\n",
        "np.savez('multiple_arrays.npz', array1=array1, array2=array2, array3=array3)\n",
        "\n",
        "print(\"Arrays saved in 'multiple_arrays.npz'\")\n"
      ]
    },
    {
      "cell_type": "code",
      "execution_count": null,
      "metadata": {
        "id": "J4820lj5KSTU",
        "outputId": "98e5637f-f5a9-4f74-c047-44ba0123162b"
      },
      "outputs": [
        {
          "name": "stdout",
          "output_type": "stream",
          "text": [
            "Multiple arrays saved to multiple_arrays.npz\n"
          ]
        }
      ],
      "source": [
        "# Create multiple arrays\n",
        "array1 = np.array([1, 2, 3])\n",
        "array2 = np.array([[4, 5, 6], [7, 8, 9]])\n",
        "\n",
        "# Save multiple arrays into a single .npz file\n",
        "np.savez('multiple_arrays.npz', array1=array1, array2=array2)\n",
        "print(\"Multiple arrays saved to multiple_arrays.npz\")\n"
      ]
    },
    {
      "cell_type": "markdown",
      "metadata": {
        "id": "hP08czqbKSTV"
      },
      "source": [
        "#### Loading Multiple Arrays\n",
        "You can load the arrays from a `.npz` file using **np.load()**, which returns a dictionary-like object that allows you to access each array by its name.\n",
        "\n",
        "##### Example: Loading Multiple Arrays\n",
        "```python\n",
        "import numpy as np\n",
        "\n",
        "# Load the arrays from the .npz file\n",
        "data = np.load('multiple_arrays.npz')\n",
        "\n",
        "# Accessing the individual arrays\n",
        "array1 = data['array1']\n",
        "array2 = data['array2']\n",
        "array3 = data['array3']\n",
        "\n",
        "print(\"Loaded array1:\", array1)\n",
        "print(\"Loaded array2:\", array2)\n",
        "print(\"Loaded array3:\", array3)\n"
      ]
    },
    {
      "cell_type": "code",
      "execution_count": null,
      "metadata": {
        "id": "gO0px_JgKSTV",
        "outputId": "ec7d4302-1fe2-4ea2-f81c-1dcd0d9de886"
      },
      "outputs": [
        {
          "name": "stdout",
          "output_type": "stream",
          "text": [
            "\n",
            "Loaded array1:\n",
            "[1 2 3]\n",
            "\n",
            "Loaded array2:\n",
            "[[4 5 6]\n",
            " [7 8 9]]\n"
          ]
        }
      ],
      "source": [
        "# Load the arrays from the .npz file\n",
        "loaded_arrays = np.load('multiple_arrays.npz')\n",
        "\n",
        "# Access the arrays\n",
        "loaded_array1 = loaded_arrays['array1']\n",
        "loaded_array2 = loaded_arrays['array2']\n",
        "\n",
        "print(\"\\nLoaded array1:\")\n",
        "print(loaded_array1)\n",
        "\n",
        "print(\"\\nLoaded array2:\")\n",
        "print(loaded_array2)"
      ]
    },
    {
      "cell_type": "markdown",
      "metadata": {
        "id": "TOuHBrC6KSTW"
      },
      "source": [
        "****\n",
        "### 12. Best Practices and Optimization\n",
        "To effectively use NumPy for data analysis and scientific computing, it’s essential to follow best practices and optimization techniques. This section covers the best practices for using NumPy efficiently and tips for improving performance.\n",
        "\n",
        "#### 12.1 Best Practices in NumPy\n",
        "\n",
        "**Choosing Data Types for Performance**\n",
        "Selecting appropriate data types can significantly impact memory usage and performance. NumPy supports various data types, including integers, floats, and booleans. Choosing the right data type can reduce memory consumption and improve computation speed.\n",
        "\n",
        "##### Example of Specifying Data Types:\n",
        "```python\n",
        "import numpy as np\n",
        "\n",
        "# Creating an array with a specified data type\n",
        "array_int = np.array([1, 2, 3, 4], dtype=np.int8)  # Using int8 for smaller memory usage\n",
        "array_float = np.array([1.0, 2.0, 3.0, 4.0], dtype=np.float32)  # Using float32 for reduced memory\n",
        "\n",
        "print(\"Array with int8 data type:\", array_int)\n",
        "print(\"Array with float32 data type:\", array_float)\n"
      ]
    },
    {
      "cell_type": "code",
      "execution_count": null,
      "metadata": {
        "id": "L3egMs32KSTW"
      },
      "outputs": [],
      "source": [
        "import numpy as np\n",
        "\n",
        "# Creating arrays with specific data types\n",
        "int_array = np.array([1, 2, 3], dtype='int32')  # 32-bit integer\n",
        "float_array = np.array([1.0, 2.0, 3.0], dtype='float64')  # 64-bit float"
      ]
    },
    {
      "cell_type": "markdown",
      "metadata": {
        "id": "3XhdJ9mAKSTW"
      },
      "source": [
        "**Avoiding Unnecessary Array Copying**\n",
        "\n",
        "Array copying can lead to increased memory usage and slower performance. When you create a new array from an existing one, be mindful of whether you need a copy or can use a view.\n",
        "\n",
        "##### Using Views Instead of Copies:"
      ]
    },
    {
      "cell_type": "code",
      "execution_count": null,
      "metadata": {
        "id": "XbcR3BOMKSTW",
        "outputId": "73ac7c41-11af-4f03-f6fe-f860e0c31ddc"
      },
      "outputs": [
        {
          "name": "stdout",
          "output_type": "stream",
          "text": [
            "Original array after modifying the view:\n",
            "[ 1  2 99  4  5]\n"
          ]
        }
      ],
      "source": [
        "original_array = np.array([1, 2, 3, 4, 5])\n",
        "\n",
        "# Creating a view of the original array\n",
        "view_array = original_array[2:4]  # This creates a view, not a copy\n",
        "view_array[0] = 99  # This modifies the original array\n",
        "\n",
        "print(\"Original array after modifying the view:\")\n",
        "print(original_array)  # Output: [ 1  2 99  4  5]\n"
      ]
    },
    {
      "cell_type": "markdown",
      "metadata": {
        "id": "GWb1gpn_KSTX"
      },
      "source": [
        "**12.2 Performance Optimization**\n",
        "\n",
        "**Vectorization and Avoiding Loops**\n",
        "\n",
        "Vectorization is a core feature of NumPy that allows you to perform operations on entire arrays without writing explicit loops. By utilizing NumPy's built-in functions, you can avoid slower Python loops and take advantage of highly optimized C and Fortran libraries, leading to faster execution and more concise code.\n"
      ]
    },
    {
      "cell_type": "code",
      "execution_count": null,
      "metadata": {
        "id": "QoQrAMKWKSTX",
        "outputId": "10954324-ff73-4178-d600-7492ffac0fe8"
      },
      "outputs": [
        {
          "data": {
            "text/plain": [
              "array([1.28282759, 0.3775158 , 0.61731513, ..., 0.81824287, 1.63160978,\n",
              "       1.75649915])"
            ]
          },
          "execution_count": 71,
          "metadata": {},
          "output_type": "execute_result"
        }
      ],
      "source": [
        "import numpy as np\n",
        "\n",
        "# Create two large arrays\n",
        "array1 = np.random.rand(1000000)\n",
        "array2 = np.random.rand(1000000)\n",
        "\n",
        "# Element-wise addition using vectorization\n",
        "result = array1 + array2  # This is faster than using a loop\n",
        "result"
      ]
    },
    {
      "cell_type": "markdown",
      "metadata": {
        "id": "PVl8TLYkKSTY"
      },
      "source": [
        "**Using `numexpr` and Cython for Performance Improvements**\n",
        "\n",
        "**`numexpr`:** This library allows you to evaluate array expressions more efficiently than using NumPy alone by utilizing multiple CPU cores and optimizing memory usage. It can lead to significant performance improvements, especially for large datasets and complex expressions.\n"
      ]
    },
    {
      "cell_type": "code",
      "execution_count": null,
      "metadata": {
        "id": "vWOsVxPXKSTY",
        "outputId": "3f6f9bd6-ee77-4e08-f79d-db895ec97a4b"
      },
      "outputs": [
        {
          "data": {
            "text/plain": [
              "array([1.28282759, 0.3775158 , 0.61731513, ..., 0.81824287, 1.63160978,\n",
              "       1.75649915])"
            ]
          },
          "execution_count": 72,
          "metadata": {},
          "output_type": "execute_result"
        }
      ],
      "source": [
        "import numexpr as ne\n",
        "\n",
        "# Evaluate the expression using numexpr\n",
        "result = ne.evaluate(\"array1 + array2\")\n",
        "result"
      ]
    },
    {
      "cell_type": "markdown",
      "metadata": {
        "id": "SVTPpJ7KKSTY"
      },
      "source": [
        "**Cython:**\n",
        "Cython is a tool that allows you to write C extensions for Python. It compiles Python code into C, leading to significant performance improvements, especially for numerical computations and loops. By converting Python code into C code, Cython can make your code run much faster, which is particularly useful for heavy computational tasks.\n",
        "\n",
        "##### Example of Using Cython:\n",
        "Here’s an example that demonstrates the use of Cython to optimize a Python function.\n",
        "\n",
        "1. **First, you need to create a Cython file** (with the `.pyx` extension) that contains the optimized code.\n",
        "\n",
        "**`cython_example.pyx`:**\n",
        "```python\n",
        "def sum_of_squares(int n):\n",
        "    cdef int i\n",
        "    cdef double total = 0\n",
        "    for i in range(n):\n",
        "        total += i * i\n",
        "    return total\n"
      ]
    },
    {
      "cell_type": "code",
      "execution_count": null,
      "metadata": {
        "id": "Ej-BGOpOKSTZ"
      },
      "outputs": [],
      "source": [
        "!pip install cython"
      ]
    },
    {
      "cell_type": "code",
      "execution_count": null,
      "metadata": {
        "id": "d6Bd3QZUKSTZ"
      },
      "outputs": [],
      "source": [
        "import numpy as np\n",
        "cimport numpy as np\n",
        "\n",
        "# Define a Cython function\n",
        "def cython_add(np.ndarray[float, ndim=1] arr1, np.ndarray[float, ndim=1] arr2):\n",
        "    cdef int i\n",
        "    cdef int n = arr1.shape[0]\n",
        "    cdef np.ndarray[float, ndim=1] result = np.empty(n, dtype=np.float64)\n",
        "\n",
        "    for i in range(n):\n",
        "        result[i] = arr1[i] + arr2[i]\n",
        "    return result\n"
      ]
    },
    {
      "cell_type": "markdown",
      "metadata": {
        "id": "S1I8hU5CKSTZ"
      },
      "source": [
        "## Happy Learning!"
      ]
    }
  ],
  "metadata": {
    "kernelspec": {
      "display_name": "Python 3",
      "language": "python",
      "name": "python3"
    },
    "language_info": {
      "codemirror_mode": {
        "name": "ipython",
        "version": 3
      },
      "file_extension": ".py",
      "mimetype": "text/x-python",
      "name": "python",
      "nbconvert_exporter": "python",
      "pygments_lexer": "ipython3",
      "version": "3.6.9"
    },
    "colab": {
      "provenance": [],
      "include_colab_link": true
    }
  },
  "nbformat": 4,
  "nbformat_minor": 0
}